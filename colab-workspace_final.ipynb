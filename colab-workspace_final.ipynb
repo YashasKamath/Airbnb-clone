{
  "nbformat": 4,
  "nbformat_minor": 0,
  "metadata": {
    "colab": {
      "provenance": [],
      "include_colab_link": true
    },
    "kernelspec": {
      "name": "python3",
      "display_name": "Python 3"
    },
    "language_info": {
      "name": "python"
    },
    "accelerator": "GPU",
    "gpuClass": "standard"
  },
  "cells": [
    {
      "cell_type": "markdown",
      "metadata": {
        "id": "view-in-github",
        "colab_type": "text"
      },
      "source": [
        "<a href=\"https://colab.research.google.com/github/YashasKamath/Airbnb-clone/blob/main/colab-workspace_final.ipynb\" target=\"_parent\"><img src=\"https://colab.research.google.com/assets/colab-badge.svg\" alt=\"Open In Colab\"/></a>"
      ]
    },
    {
      "cell_type": "code",
      "source": [
        "# To show that if there is cuda tookit installed\n",
        "!ls /usr/local"
      ],
      "metadata": {
        "id": "FJNaVYXrsyX1",
        "colab": {
          "base_uri": "https://localhost:8080/"
        },
        "outputId": "6548305e-d068-4a85-d984-1f9292bfc769"
      },
      "execution_count": null,
      "outputs": [
        {
          "output_type": "stream",
          "name": "stdout",
          "text": [
            "bin    cuda\tcuda-11.8  games\t       include\tlib64\t   man\t share\n",
            "colab  cuda-11\tetc\t   _gcs_config_ops.so  lib\tlicensing  sbin  src\n"
          ]
        }
      ]
    },
    {
      "cell_type": "code",
      "source": [
        "# To show that if we have the nvcc command\n",
        "!which nvcc"
      ],
      "metadata": {
        "id": "EWeDREa1tIGH",
        "colab": {
          "base_uri": "https://localhost:8080/"
        },
        "outputId": "336d0da7-ab12-4de7-a89a-fde9689a0f60"
      },
      "execution_count": null,
      "outputs": [
        {
          "output_type": "stream",
          "name": "stdout",
          "text": [
            "/usr/local/cuda/bin/nvcc\n"
          ]
        }
      ]
    },
    {
      "cell_type": "code",
      "source": [
        "# To show the property of the nvidia card(On my one, I use the K80)\n",
        "!nvidia-smi"
      ],
      "metadata": {
        "id": "hctj5aYxtSwK",
        "colab": {
          "base_uri": "https://localhost:8080/"
        },
        "outputId": "6eb94031-d6d5-4b50-893e-e58b9c91f887"
      },
      "execution_count": null,
      "outputs": [
        {
          "output_type": "stream",
          "name": "stdout",
          "text": [
            "Sat Apr 29 10:07:15 2023       \n",
            "+-----------------------------------------------------------------------------+\n",
            "| NVIDIA-SMI 525.85.12    Driver Version: 525.85.12    CUDA Version: 12.0     |\n",
            "|-------------------------------+----------------------+----------------------+\n",
            "| GPU  Name        Persistence-M| Bus-Id        Disp.A | Volatile Uncorr. ECC |\n",
            "| Fan  Temp  Perf  Pwr:Usage/Cap|         Memory-Usage | GPU-Util  Compute M. |\n",
            "|                               |                      |               MIG M. |\n",
            "|===============================+======================+======================|\n",
            "|   0  Tesla T4            Off  | 00000000:00:04.0 Off |                    0 |\n",
            "| N/A   68C    P8    13W /  70W |      0MiB / 15360MiB |      0%      Default |\n",
            "|                               |                      |                  N/A |\n",
            "+-------------------------------+----------------------+----------------------+\n",
            "                                                                               \n",
            "+-----------------------------------------------------------------------------+\n",
            "| Processes:                                                                  |\n",
            "|  GPU   GI   CI        PID   Type   Process name                  GPU Memory |\n",
            "|        ID   ID                                                   Usage      |\n",
            "|=============================================================================|\n",
            "|  No running processes found                                                 |\n",
            "+-----------------------------------------------------------------------------+\n"
          ]
        }
      ]
    },
    {
      "cell_type": "code",
      "source": [],
      "metadata": {
        "id": "iYzFu-yMxFoF"
      },
      "execution_count": null,
      "outputs": []
    },
    {
      "cell_type": "markdown",
      "source": [
        "#Download Image"
      ],
      "metadata": {
        "id": "Hg6mF372xGwL"
      }
    },
    {
      "cell_type": "code",
      "source": [
        "!wget https://raw.githubusercontent.com/SBhat2615/pcap-mini-project/main/image.jpg"
      ],
      "metadata": {
        "id": "4FYHP7aypzL_",
        "outputId": "50e2e0d9-7b04-4a81-ccc9-e861e2baf39c",
        "colab": {
          "base_uri": "https://localhost:8080/"
        }
      },
      "execution_count": null,
      "outputs": [
        {
          "output_type": "stream",
          "name": "stdout",
          "text": [
            "--2023-04-29 10:07:15--  https://raw.githubusercontent.com/SBhat2615/pcap-mini-project/main/image.jpg\n",
            "Resolving raw.githubusercontent.com (raw.githubusercontent.com)... 185.199.108.133, 185.199.109.133, 185.199.110.133, ...\n",
            "Connecting to raw.githubusercontent.com (raw.githubusercontent.com)|185.199.108.133|:443... connected.\n",
            "HTTP request sent, awaiting response... 200 OK\n",
            "Length: 8352 (8.2K) [image/jpeg]\n",
            "Saving to: ‘image.jpg’\n",
            "\n",
            "\rimage.jpg             0%[                    ]       0  --.-KB/s               \rimage.jpg           100%[===================>]   8.16K  --.-KB/s    in 0s      \n",
            "\n",
            "2023-04-29 10:07:15 (95.6 MB/s) - ‘image.jpg’ saved [8352/8352]\n",
            "\n"
          ]
        }
      ]
    },
    {
      "cell_type": "code",
      "source": [
        "!ls -l"
      ],
      "metadata": {
        "id": "NnY4xJJ7qHiO",
        "outputId": "18105af8-315a-49f6-828e-8013b163fe32",
        "colab": {
          "base_uri": "https://localhost:8080/"
        }
      },
      "execution_count": null,
      "outputs": [
        {
          "output_type": "stream",
          "name": "stdout",
          "text": [
            "total 16\n",
            "-rw-r--r-- 1 root root 8352 Apr 29 10:07 image.jpg\n",
            "drwxr-xr-x 1 root root 4096 Apr 27 13:35 sample_data\n"
          ]
        }
      ]
    },
    {
      "cell_type": "code",
      "source": [
        "!pwd"
      ],
      "metadata": {
        "id": "oKCLg47Fus7M",
        "outputId": "d97ff0e2-5000-451e-85cf-ecbd016223c8",
        "colab": {
          "base_uri": "https://localhost:8080/"
        }
      },
      "execution_count": null,
      "outputs": [
        {
          "output_type": "stream",
          "name": "stdout",
          "text": [
            "/content\n"
          ]
        }
      ]
    },
    {
      "cell_type": "markdown",
      "source": [
        "**RUN THE BELOW 2 CELLS ONLY IF YOU HAVE RGB IMAGE UPLOADED**\n",
        "\n"
      ],
      "metadata": {
        "id": "5eiUA-Pe_wS_"
      }
    },
    {
      "cell_type": "markdown",
      "source": [
        "# Image to GrayScale"
      ],
      "metadata": {
        "id": "ZWsVdRuLyIrG"
      }
    },
    {
      "cell_type": "code",
      "source": [
        "from matplotlib import pyplot as plt\n",
        "import cv2\n",
        "from google.colab.patches import cv2_imshow\n",
        "from pprint import pprint\n",
        "\n",
        "img = cv2.imread('./image.jpg')\n",
        "img = cv2.cvtColor(img, cv2.COLOR_BGR2GRAY)\n",
        "\n",
        "\n",
        "pprint(img)\n",
        "\n",
        "print(img.shape)\n",
        "\n",
        "# plt.imshow(img)\n",
        "# plt.axis(\"off\")\n",
        "# plt.show()\n",
        "cv2_imshow(img)"
      ],
      "metadata": {
        "id": "a4sbggmW7JWx",
        "outputId": "1dfada72-aaf0-45af-9f3c-c02f0aa1e45b",
        "colab": {
          "base_uri": "https://localhost:8080/",
          "height": 326
        }
      },
      "execution_count": null,
      "outputs": [
        {
          "output_type": "stream",
          "name": "stdout",
          "text": [
            "array([[219, 221, 232, ..., 189, 205, 218],\n",
            "       [209, 208, 218, ..., 201, 215, 226],\n",
            "       [204, 200, 209, ..., 213, 223, 230],\n",
            "       ...,\n",
            "       [253, 253, 253, ...,  35,  34,  32],\n",
            "       [254, 254, 254, ...,  31,  32,  34],\n",
            "       [254, 254, 254, ...,  31,  32,  34]], dtype=uint8)\n",
            "(170, 115)\n"
          ]
        },
        {
          "output_type": "display_data",
          "data": {
            "text/plain": [
              "<PIL.Image.Image image mode=L size=115x170 at 0x7F90393BE950>"
            ],
            "image/png": "[encoded data removed]"
          },
          "metadata": {}
        }
      ]
    },
    {
      "cell_type": "markdown",
      "source": [
        "Storing in txt"
      ],
      "metadata": {
        "id": "TYLAou0ha8M-"
      }
    },
    {
      "cell_type": "code",
      "source": [
        "with open(\"image_text.txt\", \"w\") as f:\n",
        "    for i in img:\n",
        "        for j in i:\n",
        "            f.write(str(j)+\" \")\n",
        "        f.write(\"\\n\")"
      ],
      "metadata": {
        "id": "vdfR_3n3a78O"
      },
      "execution_count": null,
      "outputs": []
    },
    {
      "cell_type": "markdown",
      "source": [
        "# Load Image"
      ],
      "metadata": {
        "id": "Bp35fKpGnzfN"
      }
    },
    {
      "cell_type": "code",
      "source": [
        "%%writefile loadImg.c\n",
        "#include <stdio.h>\n",
        "#include <stdlib.h>\n",
        "\n",
        "// Define Image Height & Width\n",
        "#define IMG_WIDTH 512\n",
        "#define IMG_HEIGHT 512\n",
        "\n",
        "int main() {\n",
        "    FILE *fp;\n",
        "    char *filename = \"./image_text.txt\";\n",
        "    unsigned char img[IMG_HEIGHT][IMG_WIDTH];\n",
        "    int i, j;\n",
        "\n",
        "    // Open image file\n",
        "    if ((fp = fopen(filename, \"rb\")) == NULL) {\n",
        "        printf(\"Error: Image file not found\\n\");\n",
        "        return 1;\n",
        "    }\n",
        "\n",
        "    // Skip image header\n",
        "    //fseek(fp, 8, SEEK_SET);\n",
        "\n",
        "    // Read image pixel values\n",
        "    for (i = 0; i < IMG_HEIGHT; i++) {\n",
        "        for (j = 0; j < IMG_WIDTH; j++) {\n",
        "            img[i][j] = fgetc(fp);\n",
        "        }\n",
        "    }\n",
        "\n",
        "    // Close image file\n",
        "    fclose(fp);\n",
        "\n",
        "    // Print image data255 255 255 255 255 255 255 255 255 255 255 255 255 255 255 255 255 255 255 \n",
        "255 255 255 255 255 255 255 255 255 255 255 255 255 255 255 255 255 255 255 255 255 255 255 255 255 \n",
        "255 255 255 255 255 255 255 255 255 255 255 255 255 255 255 255 255 255 255 255 255 255 255 255 255 \n",
        "255 255 255 255 255 255 255 255 255 255 255 255 255 255 255 255 255 255 255 255 255 255 255 255 255 \n",
        "255 255 255 255 255 255 255 255 255 255 255 255 255 255 255 255 255 255 255 255 255 255 255 255 255 \n",
        "255 255 255 255 255 255 255 255 255 255 255 255 255 255 255 255 255 255 255 255 255 255 255 255 255 \n",
        "255 255 255 255 255 255 255 255 255 255 255 255 255 255 255 255 255 255 255 255 255 255 255 255 255 \n",
        "255 255 255 255 255 255 255 255 255 255 255 255 255 255 255 255 255 255 255 255 255 255 255 255 255 \n",
        "255 255 255 255 255 255 255 255 255 255 255 255 255 255 255 255 255 255 255 255 255 255 255 255 255 \n",
        "255 255 255 255 255 255 255 255 255 255 255 255 255 255 255 255 255 255 255 255 255 255 255 255 255 \n",
        "255 255 255 255 255 255 255 255 255 255 255 255 255 255 255 255 255 255 255 255 255 255 255 255 255 \n",
        "255 255 255 255 255 255 255 255 255 255 255 255 255 255 255 255 255 255 255 255 255 255 255 255 255 \n",
        "255 255 255 255 255 255 255 255 255 255 255 255 255 255 255 255 255 255 255 255 255 255 255 255 255 \n",
        "255 255 255 255 255 255 255 255 255 255 255 255 255 255 255 255 255 255 255 255 255 255 255 255 255 \n",
        "255 255 255 255 255 255 255 255 255 255 255 255 255 255 255 255 255 255 255 255 255 255 255 255 255 \n",
        "\n",
        "    /*\n",
        "    for (i = 0; i < IMG_HEIGHT; i++) {\n",
        "        for (j = 0; j < IMG_WIDTH; j++) {\n",
        "            printf(\"%u \", img[i][j]);\n",
        "        }\n",
        "        printf(\"\\n\");\n",
        "    }\n",
        "    */\n",
        "    printf(\"Image Width : %d\\n\", IMG_WIDTH);\n",
        "    printf(\"Image Height : %d\\n\", IMG_HEIGHT);\n",
        "\n",
        "    printf(\"Image Matrix:\\n\");\n",
        "    for (i = 0; i < 25; i++) {\n",
        "        for (j = 0; j < 25; j++) {\n",
        "            printf(\"%u \", img[i][j]);\n",
        "        }\n",
        "        printf(\"\\n\");\n",
        "    }\n",
        "\n",
        "    return 0;\n",
        "}\n"
      ],
      "metadata": {
        "id": "lW6gCVh_nsVq",
        "outputId": "b5db9e4e-5011-4685-8625-ba4c8739017b",
        "colab": {
          "base_uri": "https://localhost:8080/"
        }
      },
      "execution_count": null,
      "outputs": [
        {
          "output_type": "stream",
          "name": "stdout",
          "text": [
            "Writing loadImg.c\n"
          ]
        }
      ]
    },
    {
      "cell_type": "code",
      "source": [
        "%%writefile load_img.cu\n",
        "#include <stdio.h>\n",
        "#include <stdlib.h>\n",
        "\n",
        "#define MAX_ROWS 170\n",
        "#define MAX_COLS 115\n",
        "\n",
        "int main() {\n",
        "    FILE* file = fopen(\"image_text.txt\", \"r\");\n",
        "    int matrix[MAX_ROWS][MAX_COLS];\n",
        "    int num_rows = 0;\n",
        "    int num_cols = 0;\n",
        "\n",
        "    if (file == NULL) {\n",
        "        printf(\"Error: could not open file.\\n\");\n",
        "        return 1;\n",
        "    }\n",
        "\n",
        "    // Read the contents of the file\n",
        "    while (!feof(file) && num_rows < MAX_ROWS) {\n",
        "        for (num_cols = 0; num_cols < MAX_COLS && !feof(file); num_cols++) {\n",
        "            fscanf(file, \"%d\", &matrix[num_rows][num_cols]);\n",
        "        }\n",
        "        num_rows++;\n",
        "    }\n",
        "\n",
        "    // Print the contents of the matrix\n",
        "    for (int i = 0; i < num_rows; i++) {\n",
        "        for (int j = 0; j < num_cols; j++) {\n",
        "            printf(\"%d \", matrix[i][j]);\n",
        "        }\n",
        "        printf(\"\\n\");\n",
        "    }\n",
        "\n",
        "    fclose(file);\n",
        "    return 0;\n",
        "}\n"
      ],
      "metadata": {
        "colab": {
          "base_uri": "https://localhost:8080/"
        },
        "id": "jYRTaOZeb9MJ",
        "outputId": "635fafab-adab-4c81-9c9c-19963f9c71ba"
      },
      "execution_count": null,
      "outputs": [
        {
          "output_type": "stream",
          "name": "stdout",
          "text": [
            "Writing load_img.c\n"
          ]
        }
      ]
    },
    {
      "cell_type": "code",
      "source": [
        "!gcc loadImg.c"
      ],
      "metadata": {
        "id": "l9EBu7i8uBDF"
      },
      "execution_count": null,
      "outputs": []
    },
    {
      "cell_type": "code",
      "source": [
        "!gcc load_img.c\n",
        "!./a.out"
      ],
      "metadata": {
        "colab": {
          "base_uri": "https://localhost:8080/"
        },
        "id": "w0rnAcUJcBv9",
        "outputId": "f5fdb4de-0445-452c-b21f-3de38bb39c0b"
      },
      "execution_count": null,
      "outputs": [
        {
          "output_type": "stream",
          "name": "stdout",
          "text": [
            "219 221 232 235 228 235 243 237 240 243 242 234 230 233 238 239 230 247 247 241 248 250 249 247 246 250 250 248 241 246 251 240 247 246 246 247 251 252 253 248 245 253 234 254 243 236 205 170 201 247 208 154 197 182 226 164 195 180 153 181 171 187 196 191 184 156 133 154 197 203 185 180 189 175 176 189 183 166 175 202 237 247 246 253 250 253 247 253 252 253 253 253 254 254 253 252 252 244 242 245 233 205 183 176 175 176 173 164 156 158 169 180 189 205 218 \n",
            "209 208 218 221 214 219 227 222 217 221 221 218 217 221 222 221 239 233 229 232 233 223 223 238 236 231 233 242 235 227 230 228 237 236 250 252 250 245 251 251 252 223 253 242 252 228 127 101 140 201 154 122 133 145 170 118 215 156 156 236 169 136 139 145 145 151 149 160 171 146 126 143 167 185 190 180 178 189 192 183 253 253 248 237 248 254 254 246 251 252 253 253 253 254 253 252 251 250 246 237 218 194 178 174 172 175 176 170 164 165 173 182 201 215 226 \n",
            "204 200 209 215 209 215 223 220 218 221 223 222 224 226 223 218 223 220 221 224 222 217 221 231 213 216 225 234 239 240 242 247 229 218 234 251 243 245 252 245 253 232 239 204 176 146 144 82 87 152 91 78 55 107 146 136 118 80 139 64 115 46 141 97 45 86 83 81 137 178 174 169 155 145 150 164 159 151 179 223 243 242 253 245 254 244 253 246 251 252 252 252 253 254 252 252 247 250 244 223 199 184 178 176 174 179 183 181 178 178 184 191 213 223 230 \n",
            "193 186 195 204 201 208 218 217 227 228 227 226 227 228 223 215 208 228 240 229 221 235 237 217 212 224 228 209 211 226 221 223 238 218 221 232 235 252 252 220 216 199 164 169 162 116 159 172 140 146 59 55 43 89 104 85 72 127 63 77 46 68 32 67 108 69 36 77 136 118 96 132 133 116 142 185 163 111 138 216 250 242 248 252 254 249 254 253 252 253 253 252 253 253 252 251 240 243 231 205 187 185 185 181 180 185 190 192 191 193 199 205 221 224 226 \n",
            "168 157 163 172 171 175 186 186 195 196 193 190 192 193 189 182 193 202 216 209 194 202 203 179 155 166 178 167 188 218 220 245 245 240 236 224 221 234 217 169 104 136 119 84 118 133 54 84 85 116 108 96 42 15 50 70 57 96 39 21 57 90 106 143 74 60 69 123 142 71 24 56 88 122 167 186 162 125 113 123 148 173 184 203 212 252 250 235 253 253 253 253 252 252 250 249 236 231 214 191 183 189 189 182 186 189 194 197 199 204 211 216 227 224 221 \n",
            "199 182 184 192 188 189 196 197 191 194 194 192 193 195 193 188 192 163 175 198 182 170 177 177 201 189 193 181 192 191 177 226 221 241 236 208 189 174 141 107 138 155 154 144 105 130 92 44 53 39 44 59 69 45 59 39 26 50 49 45 50 73 89 58 95 104 88 55 39 36 36 37 58 81 95 92 95 106 103 88 92 171 206 201 177 230 253 254 252 253 253 253 252 249 245 242 229 216 197 184 184 190 188 181 188 192 197 202 206 212 218 222 233 224 216 \n",
            "234 214 213 220 215 213 220 221 207 214 218 217 215 214 211 206 206 163 178 215 202 185 193 196 199 191 202 189 202 197 170 223 185 204 189 168 160 125 84 77 119 55 49 133 78 21 75 58 46 28 30 33 41 38 55 30 57 31 25 45 32 20 60 78 57 46 57 70 59 51 54 49 50 32 19 21 32 48 69 86 114 151 160 118 71 87 163 238 247 250 253 252 250 245 237 232 214 197 182 181 187 189 187 186 190 195 203 211 217 221 224 226 230 216 205 \n",
            "189 167 165 174 169 167 174 176 165 175 182 181 175 170 165 159 191 162 180 207 192 183 183 163 170 182 197 166 175 178 138 173 167 167 135 131 152 116 72 85 98 84 79 67 123 90 43 61 42 29 22 24 28 50 55 15 21 73 54 12 25 44 77 91 59 59 65 44 21 55 88 70 41 41 45 46 35 23 25 36 49 26 51 69 69 23 82 172 244 248 252 252 249 242 232 224 198 181 172 180 188 188 189 195 193 200 210 221 228 230 230 229 223 206 193 \n",
            "165 165 165 165 166 168 170 170 178 173 171 172 169 165 168 176 173 161 153 172 156 199 167 195 116 50 113 155 154 163 152 192 211 159 126 128 130 135 76 80 43 26 34 42 45 76 75 23 27 29 29 27 25 27 33 39 32 53 51 26 24 47 51 32 56 4 16 24 26 41 30 34 44 54 45 49 76 75 53 48 29 28 60 73 55 61 66 34 209 253 224 237 249 243 216 208 172 173 177 181 186 192 196 199 198 208 217 221 226 232 227 216 220 189 189 \n",
            "190 190 190 190 191 192 193 194 192 193 189 181 183 192 196 192 178 202 197 178 180 209 170 140 147 96 119 133 147 180 158 135 115 99 184 100 104 101 60 48 62 30 31 42 35 42 42 12 24 26 26 25 23 25 30 34 14 22 25 22 26 38 44 43 35 62 109 99 62 52 38 20 18 33 32 37 57 56 43 45 50 39 76 72 70 60 83 57 66 206 253 246 232 236 213 183 176 178 180 183 186 191 195 198 207 216 223 225 228 230 224 215 207 179 184 \n",
            "176 176 176 176 176 177 178 179 182 191 186 173 178 197 200 187 187 204 183 172 200 190 161 122 134 96 97 121 131 140 135 111 95 80 46 156 95 50 142 20 39 20 24 32 31 48 56 33 21 23 24 23 22 22 25 28 27 20 23 36 39 32 37 50 52 68 71 67 57 59 51 8 7 17 16 18 34 46 60 80 39 20 58 50 70 61 106 98 106 141 203 229 241 209 181 189 176 178 181 184 188 194 200 205 217 224 229 228 226 223 215 206 192 170 180 \n",
            "187 186 186 186 186 188 189 189 179 188 188 180 183 196 199 191 187 208 174 193 223 202 161 115 144 127 112 141 149 147 166 146 125 98 140 83 98 87 100 38 26 35 37 22 26 62 64 20 21 22 22 22 21 22 22 23 25 15 18 31 30 17 18 31 40 43 23 37 40 35 57 45 38 37 31 25 25 31 48 67 33 15 32 35 53 65 111 122 57 81 144 134 169 189 172 149 169 174 181 187 192 201 211 218 222 227 231 229 222 212 201 193 185 166 180 \n",
            "165 164 164 164 165 167 168 169 173 176 182 186 185 183 186 190 180 198 120 115 119 155 126 78 67 74 34 31 50 81 110 66 96 16 37 66 100 68 110 12 18 29 30 20 33 63 53 11 23 23 22 22 22 22 22 21 14 14 19 25 26 23 24 28 33 46 35 65 84 72 78 61 40 35 36 38 31 28 35 42 60 52 36 46 33 61 81 104 102 67 88 87 143 169 162 157 164 172 182 191 198 207 218 227 227 229 231 228 216 201 188 183 183 167 183 \n",
            "168 168 168 169 170 172 174 175 168 166 172 182 183 178 179 186 196 160 72 79 60 103 87 75 64 68 36 31 38 56 101 107 62 138 134 66 48 89 74 53 30 18 15 29 47 48 34 21 27 24 21 20 21 22 21 20 19 26 29 28 27 31 31 29 39 54 40 48 79 95 94 77 57 38 33 32 19 19 34 41 62 76 52 58 20 50 48 72 127 126 103 65 116 179 177 146 161 172 186 197 204 212 223 231 233 231 228 221 206 190 182 182 182 170 188 \n",
            "159 159 160 161 164 166 168 170 178 176 175 179 189 197 197 193 143 65 38 78 57 54 24 26 40 36 33 45 36 20 62 122 119 59 105 48 59 75 98 80 62 42 27 33 40 24 9 11 28 24 19 17 19 21 20 19 18 20 21 19 17 15 15 15 26 44 48 29 30 43 59 100 89 62 51 40 11 3 18 25 32 76 79 74 39 55 56 75 58 80 73 103 124 112 110 142 154 169 187 201 210 218 229 237 238 229 218 206 190 177 177 185 182 175 199 \n",
            "147 147 148 150 153 155 158 160 168 169 161 156 174 199 198 180 151 56 46 41 27 40 36 28 15 21 27 27 28 25 33 62 100 56 26 56 41 63 76 61 43 41 25 15 23 28 25 26 29 23 17 15 17 19 19 17 23 19 20 26 25 19 21 28 49 23 30 42 61 45 11 50 45 34 52 62 36 22 30 30 19 83 117 99 76 76 87 101 93 134 65 63 109 151 125 85 146 163 186 203 214 224 236 245 240 226 209 193 176 167 174 188 183 180 209 \n",
            "144 152 155 144 163 155 179 163 126 134 124 184 202 141 116 92 61 44 32 61 19 22 44 19 25 23 25 31 29 26 32 43 52 59 43 27 37 48 44 40 34 28 26 28 27 23 20 20 21 19 20 22 19 13 12 15 20 22 24 28 36 42 39 32 24 17 33 41 43 75 75 21 38 36 31 43 49 26 28 71 73 56 70 98 101 112 69 97 82 76 100 54 84 138 142 105 53 151 184 211 204 232 248 232 240 230 212 203 175 159 182 187 180 189 215 \n",
            "124 148 144 147 158 182 157 80 80 116 89 102 142 151 127 50 45 38 31 65 31 23 30 14 20 18 21 26 25 21 25 34 51 58 44 27 34 39 31 26 17 15 19 26 29 26 23 23 25 21 21 23 21 16 16 20 17 30 39 34 25 23 28 33 35 13 16 19 14 50 93 93 46 43 42 56 72 61 38 30 73 100 114 81 62 89 109 71 68 65 95 90 45 56 86 108 84 140 231 209 233 239 216 247 241 231 213 205 179 165 189 193 186 200 228 \n",
            "149 165 152 168 159 199 154 50 56 97 84 89 103 104 108 78 34 38 35 75 58 38 22 19 20 19 22 26 27 24 25 29 45 52 40 25 30 31 21 16 19 20 25 31 31 24 18 16 27 22 21 24 24 21 23 28 27 43 53 47 36 33 39 45 28 34 57 52 17 15 35 33 26 16 20 45 84 112 94 51 39 74 127 62 76 78 61 98 69 91 59 90 96 73 39 72 78 169 209 225 238 231 228 248 240 232 213 205 181 170 195 197 184 203 236 \n",
            "141 143 152 182 167 186 163 79 75 68 39 58 81 68 60 46 30 37 32 75 80 59 21 27 22 22 23 27 29 28 26 25 36 43 32 21 27 27 20 19 29 29 32 35 32 23 17 17 25 20 19 25 29 29 32 37 39 43 44 42 40 38 32 25 38 60 80 63 30 34 51 47 62 38 19 5 10 59 103 104 42 35 54 95 87 60 109 85 115 90 40 59 62 82 91 54 78 164 193 216 228 223 252 237 239 231 212 202 180 173 198 197 180 204 240 \n",
            "156 157 185 191 179 166 156 71 95 107 72 45 57 75 68 37 28 29 19 57 78 69 20 27 21 20 21 23 27 29 25 21 33 38 27 18 24 25 21 26 26 25 28 31 29 25 26 30 26 22 24 34 42 44 46 49 58 59 56 49 43 37 26 16 22 23 32 33 26 32 52 64 53 48 53 34 0 4 50 77 76 74 54 31 59 91 36 54 59 114 73 34 66 46 58 74 95 92 196 194 223 233 243 234 241 233 213 201 180 177 201 198 187 212 249 \n",
            "159 166 178 146 144 140 143 60 75 104 82 29 19 43 51 41 32 26 15 41 63 71 23 27 24 23 21 22 29 34 31 23 34 38 28 20 24 23 20 28 27 26 28 29 28 27 33 42 44 42 48 62 72 74 72 72 63 70 70 57 41 34 34 35 48 27 32 63 70 48 42 60 45 39 54 70 59 37 26 23 31 64 51 95 65 90 141 114 69 70 99 93 85 56 70 35 59 61 111 210 203 238 226 240 241 235 213 201 182 183 208 202 197 219 252 \n",
            "178 194 185 161 150 160 174 137 92 79 53 35 51 63 48 41 38 30 23 33 44 67 27 27 27 26 22 21 30 39 36 27 31 36 29 24 27 22 18 27 32 33 37 41 42 44 54 65 82 82 90 107 117 116 109 105 73 71 60 42 29 27 31 34 39 24 14 28 45 44 44 55 91 68 43 44 54 47 39 45 29 46 57 70 61 35 35 86 110 84 63 53 88 98 70 55 20 83 62 182 194 231 231 241 236 231 210 198 182 187 214 206 203 221 252 \n",
            "181 199 180 180 126 100 91 99 38 50 52 36 36 38 26 31 39 31 29 28 27 59 25 23 24 22 16 14 25 37 35 24 25 32 28 27 31 24 19 28 28 33 43 55 63 71 86 100 115 116 126 143 153 149 138 132 127 104 72 49 43 45 39 29 17 41 34 15 31 58 51 27 38 61 62 48 41 34 54 98 83 46 22 46 74 39 66 51 83 57 56 49 34 95 76 53 39 86 140 90 213 228 233 239 229 225 205 194 180 188 216 208 210 225 252 \n",
            "185 188 181 174 120 47 28 30 38 39 38 36 41 43 33 18 24 30 29 25 31 42 37 23 17 18 19 20 21 25 31 36 31 25 23 25 22 17 20 29 40 59 75 84 101 126 140 139 163 166 171 173 172 171 170 170 171 151 117 82 58 44 31 20 31 54 45 26 34 42 43 53 20 42 52 60 66 42 25 42 51 68 29 47 73 39 29 26 73 47 59 72 50 47 68 72 41 43 60 137 201 227 228 236 236 221 216 201 184 202 223 212 215 241 252 \n",
            "186 200 177 137 80 38 38 34 31 33 39 46 52 50 41 32 26 30 26 21 25 35 31 18 21 22 23 23 22 24 29 32 31 25 22 24 24 27 39 53 75 97 118 128 142 161 171 170 190 193 198 200 199 197 196 195 196 179 147 110 78 55 40 32 22 43 54 53 55 51 42 40 39 26 10 30 70 71 46 40 88 78 60 86 143 129 57 21 30 92 81 28 40 73 63 40 29 61 55 60 196 219 231 239 233 224 219 203 191 212 227 211 217 242 253 \n",
            "197 164 123 117 92 47 41 44 30 27 33 44 48 42 39 43 31 35 31 23 23 28 26 18 21 23 24 24 24 25 28 31 32 28 25 26 32 46 67 86 108 133 157 168 177 189 196 194 211 215 220 222 221 218 216 215 213 202 178 141 99 63 46 41 41 35 40 44 38 41 52 58 40 27 12 26 57 65 61 69 78 111 65 76 95 77 101 91 47 97 103 78 71 64 66 91 60 33 52 47 106 229 221 252 232 230 223 204 200 224 232 209 221 244 252 \n",
            "180 171 163 164 106 27 32 70 44 32 29 36 34 25 31 48 34 43 45 36 27 25 25 23 17 19 22 23 23 25 28 31 33 34 36 41 52 73 100 120 141 164 186 196 200 207 212 214 222 225 230 232 229 227 224 223 218 214 202 171 121 73 49 46 29 16 35 56 45 37 43 41 36 36 37 39 39 39 56 82 37 62 94 50 30 43 43 94 74 50 53 64 70 97 100 60 111 43 85 65 106 166 209 215 236 239 225 203 205 231 232 208 226 247 253 \n",
            "190 210 201 168 100 38 35 40 50 38 33 36 30 20 26 43 31 45 56 49 33 23 23 27 17 19 21 22 23 25 30 33 35 46 59 71 87 111 138 155 177 194 211 217 218 223 230 235 231 235 238 238 237 235 234 233 227 227 224 202 150 90 57 53 45 24 36 53 40 31 40 41 48 36 34 40 39 38 45 52 38 65 38 44 46 30 39 13 38 25 48 63 44 51 83 91 47 85 14 110 127 212 236 252 244 246 226 202 210 232 229 211 231 250 253 \n",
            "175 156 120 107 83 47 34 20 35 31 32 36 31 21 22 30 26 40 52 49 35 22 20 24 22 23 25 25 26 30 37 42 51 71 94 112 129 152 174 187 196 206 216 220 220 224 232 238 237 239 241 242 241 240 240 240 237 234 235 223 176 111 72 65 79 53 40 38 29 29 45 59 54 38 41 50 44 40 43 39 56 30 50 22 24 49 16 29 48 40 27 46 75 59 55 97 120 83 81 77 111 203 245 238 248 249 226 207 219 232 226 220 236 252 254 \n",
            "91 79 61 67 49 16 28 44 23 26 29 29 27 25 23 22 27 31 37 40 35 26 20 19 24 25 27 30 35 44 55 62 85 110 137 154 167 184 199 206 205 209 215 218 219 222 229 237 237 239 241 242 241 240 242 243 241 233 235 234 197 136 97 90 59 57 49 48 51 44 39 47 55 45 57 64 43 36 46 48 17 31 49 53 31 16 25 34 2 59 65 34 34 42 48 66 126 56 95 97 62 183 248 252 248 248 227 217 232 234 225 230 239 253 254 \n",
            "60 70 51 42 42 43 40 10 29 33 31 24 24 29 31 28 31 26 25 32 36 31 22 16 21 23 27 33 43 57 72 83 117 143 169 181 188 199 208 211 219 220 223 228 230 232 236 241 239 240 242 242 241 242 244 246 244 233 235 240 213 159 124 119 58 59 36 24 38 42 45 66 63 44 51 60 43 39 47 41 58 28 47 39 29 34 15 30 41 12 30 60 44 31 37 34 58 85 79 118 133 79 248 240 245 246 228 225 242 237 225 238 240 254 254 \n",
            "187 154 80 23 40 40 28 27 35 30 25 25 28 31 30 29 25 34 36 29 25 29 31 29 33 33 43 57 60 64 89 119 155 167 185 199 207 210 213 215 228 230 232 233 233 234 238 241 242 243 243 243 243 243 243 243 241 239 239 235 216 181 144 121 86 46 34 56 42 82 31 66 59 60 37 52 52 36 55 50 54 33 38 47 39 40 41 24 24 25 22 23 38 53 48 32 47 83 90 101 135 102 169 251 248 241 233 234 239 239 237 236 251 252 253 \n",
            "196 163 118 24 27 38 39 30 28 29 29 28 26 26 29 32 28 32 32 27 26 30 29 24 31 41 58 73 80 92 119 146 178 188 201 211 215 218 221 224 230 232 233 233 233 234 237 240 243 243 243 243 243 243 243 243 241 238 237 236 221 187 145 116 95 45 41 36 73 56 61 62 71 67 52 56 57 48 50 42 61 48 58 70 60 54 48 30 34 41 37 25 33 53 56 43 37 36 81 68 88 118 107 220 246 244 228 219 229 234 234 239 251 252 253 \n",
            "66 44 54 37 57 45 20 16 20 27 33 30 24 21 27 35 27 28 27 25 28 32 31 26 39 64 90 102 111 129 155 173 193 200 210 216 218 221 225 228 232 233 234 234 233 234 236 239 242 242 243 243 244 244 244 243 242 237 235 236 226 192 142 104 80 55 28 52 77 75 82 71 85 75 73 62 62 64 46 38 66 52 53 56 47 45 46 39 35 47 46 32 32 48 55 47 50 47 18 46 80 114 96 137 222 239 229 218 233 240 236 245 251 252 253 \n",
            "33 63 47 121 28 74 37 33 19 25 31 30 24 22 27 32 23 26 27 27 27 32 37 40 62 98 129 137 143 161 178 184 195 202 212 218 220 222 225 228 231 234 235 234 233 233 235 238 241 242 243 243 243 243 243 243 243 238 234 235 229 199 145 100 78 72 55 68 83 104 95 80 88 76 86 65 62 74 47 46 65 58 57 59 55 53 56 56 33 38 42 43 43 45 47 47 34 45 52 46 53 81 77 134 166 212 229 230 245 244 234 243 251 252 253 \n",
            "196 49 43 139 156 23 51 21 24 25 26 27 27 28 27 27 22 27 30 28 23 27 43 59 92 130 161 167 169 181 188 185 199 207 218 224 225 224 224 225 232 233 234 233 232 232 234 237 241 242 242 242 242 242 242 242 241 237 234 235 233 212 164 121 107 84 117 52 96 101 103 82 80 69 83 65 62 73 53 60 39 47 58 70 75 64 52 50 42 29 29 44 49 41 41 50 11 54 31 40 54 29 98 111 115 175 222 239 246 238 230 238 251 252 253 \n",
            "199 242 58 59 172 141 20 30 31 27 23 24 29 31 28 24 25 29 32 29 24 31 58 85 122 153 178 183 183 190 193 189 202 210 219 223 222 219 217 218 229 230 232 231 230 231 234 236 240 240 240 241 241 241 241 241 237 237 235 234 236 226 193 159 125 100 117 59 70 102 86 89 76 65 71 70 71 73 64 70 39 45 45 52 65 60 52 58 54 30 19 30 37 32 35 47 53 2 51 5 41 70 40 78 101 149 212 246 243 235 238 245 251 252 253 \n",
            "232 233 160 59 26 50 43 30 36 30 24 25 29 31 28 24 28 27 29 31 35 53 89 123 152 170 185 188 187 190 193 193 200 207 214 217 216 214 215 216 226 227 229 229 229 230 233 236 239 239 239 239 239 239 239 239 236 239 237 231 232 230 211 188 147 127 93 97 61 97 61 82 85 73 63 86 96 81 80 76 74 69 47 41 59 64 66 84 63 50 34 26 28 33 35 35 36 29 50 38 32 29 32 66 97 122 194 248 241 237 251 250 251 252 253 \n",
            "241 253 243 77 62 77 46 38 37 32 27 26 27 28 28 27 29 24 25 34 49 76 119 155 175 181 187 188 186 187 191 194 200 205 211 214 214 216 221 225 223 225 227 228 228 229 233 236 238 238 238 238 238 238 238 238 238 241 238 227 224 226 215 198 188 151 113 117 104 66 55 55 99 84 62 102 118 92 93 80 73 68 42 35 54 57 54 71 71 75 62 39 34 45 43 27 30 29 19 51 38 41 39 57 84 92 172 242 237 236 253 243 251 252 253 \n",
            "254 237 251 181 73 39 26 31 30 10 38 37 11 26 32 18 30 31 26 39 79 114 139 161 183 189 196 198 195 195 198 202 197 205 215 220 219 216 215 216 214 225 227 219 220 231 235 229 235 235 238 241 243 242 238 234 233 235 236 235 231 224 217 212 202 167 146 153 146 109 71 55 85 56 92 108 108 129 113 88 69 59 73 48 32 40 40 73 47 82 83 31 42 62 31 45 58 80 84 54 31 41 51 42 81 84 117 241 237 253 250 253 253 254 254 \n",
            "247 254 243 212 130 47 26 51 24 34 17 8 47 39 2 34 26 39 49 69 105 133 153 173 189 194 199 201 200 199 201 203 200 207 216 219 217 214 212 213 214 223 225 219 220 230 233 228 235 235 238 241 243 242 238 234 236 236 235 233 231 227 225 223 211 205 172 135 137 153 124 72 75 56 89 111 125 141 117 92 83 72 75 62 43 33 34 58 59 44 67 75 44 28 78 166 222 249 241 214 172 83 37 78 54 65 76 202 241 244 246 253 254 254 254 \n",
            "253 251 210 202 105 41 38 33 30 31 42 26 21 32 24 22 23 51 76 101 130 146 160 179 194 196 198 200 201 200 200 199 197 204 213 216 215 213 213 214 213 221 223 218 219 227 230 228 235 235 238 241 243 242 238 234 236 235 232 229 229 229 231 232 227 218 200 179 162 154 150 148 101 85 94 105 123 134 110 94 101 109 105 101 68 31 37 50 59 48 69 82 44 68 173 228 196 172 176 203 222 211 138 43 56 80 87 183 253 248 254 253 254 254 254 \n",
            "247 244 230 201 40 86 176 179 57 41 35 25 29 28 15 30 28 63 95 118 137 145 157 177 194 193 194 196 197 196 194 191 191 198 207 212 213 214 217 220 213 219 221 218 219 225 229 228 235 235 238 241 243 242 238 234 234 233 230 228 228 229 231 232 235 212 213 230 208 162 164 203 171 152 125 108 112 111 96 94 97 133 134 129 86 38 47 43 51 77 72 67 78 153 225 190 120 89 93 95 108 187 210 130 58 61 96 158 241 251 254 248 254 254 254 \n",
            "255 242 255 234 121 209 254 246 163 41 27 49 24 28 38 19 44 78 107 123 137 144 159 183 191 191 191 192 193 192 189 186 190 196 204 208 210 212 216 220 214 217 219 219 220 224 227 228 235 235 238 241 243 242 238 234 234 234 234 233 232 231 230 229 233 223 220 226 226 214 202 197 222 210 173 143 125 104 92 88 72 113 112 111 87 56 54 25 39 95 86 94 146 193 203 152 138 144 131 103 79 85 147 223 111 35 73 134 230 251 245 251 254 254 254 \n",
            "254 245 252 251 238 254 200 196 210 197 114 37 50 43 8 41 67 95 115 127 141 150 166 191 189 190 191 192 191 189 187 186 194 199 204 206 206 207 211 215 215 217 219 220 221 223 227 230 235 235 238 241 243 242 238 234 236 237 239 239 238 235 232 230 226 232 231 224 223 228 223 211 224 223 204 188 154 117 102 81 61 73 68 72 78 76 62 29 35 131 149 146 187 197 173 156 170 152 154 156 119 82 108 164 198 70 56 125 241 252 234 254 254 254 254 \n",
            "238 254 255 251 250 223 208 253 242 254 232 116 40 37 37 44 85 107 120 129 143 152 164 185 185 188 192 191 188 185 185 187 194 199 203 204 203 205 209 214 217 217 219 222 222 223 227 231 235 235 238 241 243 242 238 234 236 237 239 239 239 236 234 232 227 230 235 236 227 217 224 237 220 220 214 214 176 139 130 92 75 56 54 56 66 75 68 73 81 170 206 182 192 191 159 168 188 172 187 180 126 106 119 114 191 136 54 106 241 249 236 252 254 254 254 \n",
            "254 254 234 255 255 241 254 251 254 243 249 185 80 31 38 68 94 112 121 128 142 147 154 169 180 186 190 189 185 181 183 186 191 195 200 202 203 206 212 217 218 217 219 223 224 223 227 232 235 235 238 241 243 242 238 234 234 234 235 236 236 235 235 234 233 232 231 231 235 236 234 228 235 225 217 222 183 156 160 116 91 58 67 60 52 56 66 120 153 176 209 198 194 174 139 173 165 200 200 195 196 147 97 105 128 193 73 91 234 251 253 251 254 254 254 \n",
            "254 254 254 253 253 252 252 251 243 252 249 209 48 71 63 75 106 111 119 127 136 147 158 166 175 180 186 187 185 184 185 187 195 196 199 202 202 204 215 227 221 220 221 224 224 222 225 229 228 237 245 245 239 234 234 238 239 238 237 236 235 236 236 236 233 235 236 235 233 232 233 234 229 237 229 206 197 197 175 143 127 80 71 77 87 57 93 114 189 236 212 203 197 171 129 176 183 189 201 215 215 174 123 103 125 192 101 131 234 248 253 246 253 254 255 \n",
            "254 254 254 254 253 252 252 252 254 246 249 161 57 220 168 84 112 115 120 126 134 144 155 162 172 177 183 185 183 182 183 186 195 198 205 212 213 212 216 223 217 219 223 227 227 225 225 227 233 233 236 241 244 244 239 234 235 235 235 235 236 237 238 239 234 236 237 236 234 232 233 234 233 232 227 218 204 185 164 148 147 119 106 83 78 71 130 168 213 230 213 202 200 193 169 176 181 195 202 213 223 211 162 121 125 201 115 84 224 243 249 254 253 254 255 \n",
            "255 254 254 254 253 253 252 252 252 254 221 159 120 251 100 111 119 120 122 124 130 139 151 159 168 173 179 181 180 179 182 184 199 200 205 213 217 216 218 222 220 223 226 228 228 227 228 229 233 233 236 239 242 241 238 235 235 235 236 237 237 239 239 240 234 236 238 237 235 233 233 234 236 226 226 231 213 176 153 153 139 144 146 104 79 80 141 193 223 216 216 202 203 208 212 202 208 218 211 196 213 223 197 152 115 202 149 60 223 251 242 253 253 253 254 \n",
            "255 255 254 254 254 253 253 252 253 211 138 117 235 205 52 104 122 122 121 122 126 136 148 157 164 169 175 177 177 177 181 184 202 198 198 204 210 215 220 226 224 227 227 223 221 222 223 222 219 225 230 229 224 222 226 231 233 233 235 235 236 237 238 238 234 236 238 238 236 234 234 234 238 227 227 234 221 183 157 152 134 152 163 122 83 78 128 199 220 213 220 198 201 185 201 201 206 213 194 163 173 200 204 191 122 192 174 55 185 251 244 251 252 253 254 \n",
            "255 255 255 255 254 254 253 253 254 206 81 159 234 164 47 98 122 121 120 120 125 135 148 157 160 165 171 174 174 175 180 184 198 195 196 204 211 216 222 227 220 226 228 221 214 209 202 194 189 189 190 191 194 198 203 207 217 219 223 227 231 233 235 236 232 235 238 238 237 235 235 235 238 233 230 231 225 204 175 155 156 158 162 133 93 84 123 222 225 223 218 196 206 153 129 133 135 150 148 134 133 150 183 213 152 177 178 53 111 228 253 254 252 253 253 \n",
            "255 255 255 255 255 254 254 254 253 247 119 183 243 118 9 114 121 121 120 120 124 134 146 155 155 160 166 168 169 172 178 183 190 193 202 213 218 218 219 223 215 225 228 217 203 190 172 156 150 141 137 149 169 183 181 174 193 197 205 213 221 226 230 232 229 232 236 238 238 236 236 236 237 236 233 229 229 223 197 169 161 153 159 152 122 106 119 227 230 230 213 205 219 165 101 81 80 98 119 130 122 116 153 210 171 165 192 72 75 198 254 246 251 252 253 \n",
            "255 255 255 255 255 255 254 254 252 234 198 78 253 103 24 140 121 121 121 121 124 132 143 151 149 154 159 162 164 167 174 179 189 194 203 213 214 212 213 218 211 215 207 184 164 151 134 118 114 115 122 138 156 167 167 163 181 185 194 203 212 219 223 225 225 229 235 238 238 237 236 236 236 237 234 232 233 230 213 193 159 149 155 157 134 121 110 216 230 230 219 220 213 201 147 98 101 105 118 131 122 106 142 205 179 163 208 76 73 164 252 242 251 252 253 \n",
            "255 255 255 255 255 255 254 254 255 254 254 75 94 103 30 192 123 123 122 122 124 131 140 147 145 150 155 158 160 164 171 176 193 195 200 203 202 201 208 217 203 199 175 139 115 108 101 90 94 115 140 151 151 152 162 172 181 185 193 201 209 214 217 218 223 228 233 237 238 237 237 237 235 234 235 237 236 232 221 212 177 160 149 138 117 119 111 221 230 232 232 227 185 215 194 133 144 127 117 121 116 109 149 211 193 168 207 46 60 129 252 254 251 252 253 \n",
            "254 254 254 255 255 255 255 254 253 249 252 234 59 64 28 162 123 101 108 114 142 124 139 140 143 149 156 158 158 163 172 181 182 186 198 200 194 199 201 186 179 148 100 85 69 53 74 90 104 109 138 154 144 153 169 163 167 170 177 187 198 209 216 220 222 227 233 236 237 236 236 236 234 236 238 238 237 234 230 227 197 209 155 115 83 93 116 186 240 233 238 234 225 200 178 202 177 167 170 148 137 123 169 210 187 176 218 62 61 104 235 254 251 252 253 \n",
            "254 254 254 255 255 255 255 254 234 250 254 245 240 55 38 41 119 122 143 114 117 129 153 147 145 150 155 155 154 157 167 175 182 180 189 196 195 195 182 155 130 95 46 40 43 49 86 109 110 123 141 142 142 168 173 142 153 165 182 196 206 212 217 220 221 226 232 236 237 237 237 237 236 237 237 238 237 234 231 229 215 192 179 152 85 88 131 156 242 237 240 237 231 209 173 180 196 197 202 169 141 121 168 212 183 185 212 52 49 76 198 250 251 252 253 \n",
            "254 254 255 255 255 255 255 254 254 253 235 241 242 223 46 68 128 94 124 122 128 136 137 138 148 152 154 151 148 151 161 170 177 174 185 195 190 174 138 95 63 47 28 50 73 84 113 125 138 117 126 150 143 117 99 90 105 121 143 163 178 190 202 210 220 225 232 236 238 238 238 239 238 238 238 237 236 234 233 232 220 219 200 160 136 106 126 169 239 238 243 238 238 223 174 160 197 209 218 199 175 158 187 215 172 194 205 56 63 70 166 254 252 252 253 \n",
            "254 254 255 255 255 255 254 254 254 240 255 248 253 254 162 46 201 129 131 124 121 135 132 146 151 153 153 149 146 149 159 168 169 171 186 190 165 129 83 40 34 41 50 90 116 118 131 130 132 148 141 110 103 128 134 112 78 86 101 122 147 172 194 206 219 225 231 236 238 239 239 240 240 239 238 236 235 234 234 234 211 216 193 151 164 125 134 182 232 238 244 236 239 230 182 162 176 198 217 217 214 205 200 192 174 204 196 71 90 80 135 242 252 253 254 \n",
            "254 254 255 255 255 255 254 254 253 245 253 251 252 224 254 103 91 92 126 129 128 159 147 136 152 154 154 150 146 149 159 168 166 169 179 166 120 79 52 31 53 64 71 99 111 107 121 123 124 91 89 134 160 126 80 62 59 58 66 91 127 161 183 192 220 225 232 237 238 239 240 240 240 239 237 235 234 234 234 234 232 199 209 195 183 166 195 193 229 241 248 233 234 228 191 178 162 192 218 226 223 219 194 168 192 210 179 74 94 79 97 199 252 253 254 \n",
            "254 254 254 255 255 255 254 254 254 244 248 250 232 254 252 238 212 183 131 118 118 142 146 154 154 156 156 152 147 149 157 165 166 163 161 133 80 51 57 67 86 96 94 106 103 89 98 96 69 104 98 50 18 15 25 41 50 50 62 95 138 175 192 196 221 226 233 237 238 239 239 240 238 238 236 235 233 233 232 232 234 227 227 221 223 212 215 217 230 243 250 234 229 224 197 196 166 200 224 231 222 221 204 192 206 204 160 74 82 79 85 172 251 252 253 \n",
            "254 254 254 255 255 254 254 254 252 253 252 254 252 240 254 250 250 209 105 119 140 135 132 144 155 158 159 154 147 146 152 158 167 155 144 114 68 55 81 104 109 115 106 110 100 80 80 70 83 53 18 19 38 31 32 61 100 101 113 141 178 207 218 220 223 228 234 237 238 239 238 239 236 236 235 234 233 232 231 230 212 240 217 204 223 217 193 223 226 237 248 237 233 226 204 213 192 210 220 234 227 231 223 223 208 197 163 92 74 81 87 158 249 250 251 \n",
            "254 254 254 255 255 254 254 254 248 253 247 249 252 245 251 244 243 250 131 121 133 136 144 143 157 160 161 155 147 143 147 152 166 149 136 112 76 70 97 120 125 120 94 88 78 65 70 62 54 72 58 32 29 41 84 144 156 153 155 167 187 203 210 211 224 229 235 237 238 238 238 238 234 235 235 234 233 231 229 228 229 232 225 225 193 217 224 226 219 227 244 240 240 232 211 224 222 217 209 232 232 238 223 220 211 200 178 115 69 76 78 135 248 249 249 \n",
            "254 254 254 254 254 254 254 254 254 254 254 254 254 254 254 254 236 253 181 106 128 148 133 146 154 157 158 155 150 146 146 147 158 153 134 110 104 117 131 136 118 113 90 92 62 61 46 55 128 160 129 45 26 94 146 144 172 167 161 163 179 202 217 222 227 230 233 237 238 238 237 236 234 235 235 235 234 232 229 228 225 223 220 217 216 216 216 217 230 221 245 247 237 235 229 231 230 220 216 223 229 227 218 211 184 212 201 135 72 54 65 74 221 251 245 \n",
            "254 254 254 254 254 254 254 254 254 254 254 254 254 254 254 254 248 254 212 120 134 140 138 142 156 157 158 156 151 146 142 140 149 147 135 118 117 131 143 146 118 98 79 84 70 61 59 78 119 162 168 120 91 114 145 152 158 162 167 177 193 209 215 213 226 229 233 237 237 237 235 234 235 235 235 235 234 232 230 229 226 224 220 217 215 216 217 219 228 219 241 245 239 236 225 226 230 224 223 227 227 218 203 193 194 222 222 178 115 65 55 75 178 246 252 \n",
            "254 254 254 254 254 254 254 254 254 254 254 254 254 254 254 254 254 250 243 142 131 129 140 138 155 156 157 158 156 151 143 138 142 144 139 131 134 148 154 151 134 96 78 75 74 50 59 80 110 94 81 92 124 152 156 145 156 164 176 190 206 218 219 214 226 229 233 237 237 236 233 231 236 236 236 235 234 232 230 229 228 225 220 216 215 217 220 222 226 219 237 241 239 237 221 222 226 225 226 226 219 201 187 181 203 225 232 217 166 89 56 82 114 225 248 \n",
            "254 254 254 254 254 254 254 254 254 254 254 254 254 254 254 254 254 245 252 174 120 127 141 141 148 149 152 156 158 154 145 138 141 148 151 148 153 161 160 151 142 105 89 70 77 50 62 70 83 88 105 128 138 134 132 135 170 177 186 196 209 221 224 223 227 230 235 238 239 237 233 230 236 236 235 234 233 232 231 230 230 226 221 217 216 218 222 225 224 222 237 238 238 235 217 223 216 219 220 213 194 179 179 188 206 223 227 227 203 131 80 89 76 211 250 \n",
            "254 254 254 254 254 254 254 254 254 254 254 254 254 254 254 254 251 248 250 213 120 135 143 148 142 143 146 151 154 152 145 138 145 159 168 170 174 179 173 161 139 118 109 81 90 76 85 77 94 116 140 145 134 129 144 163 180 186 194 200 210 221 223 223 228 231 235 238 239 237 234 232 236 235 234 232 231 230 230 230 231 227 222 218 217 220 224 227 225 229 239 235 238 231 209 221 205 208 205 188 165 158 177 201 210 221 223 227 226 182 117 83 65 191 251 \n",
            "254 254 254 254 254 254 254 254 254 254 254 254 254 254 254 254 251 252 247 243 137 134 138 139 137 138 142 146 149 149 147 144 151 171 188 193 196 199 193 183 155 149 139 115 112 105 102 90 117 107 97 103 133 167 181 179 177 188 199 206 213 218 217 213 228 230 233 235 236 236 234 233 235 234 232 230 229 228 229 229 230 227 223 220 220 222 226 228 227 234 238 231 237 226 191 200 187 186 179 164 148 150 177 206 213 220 225 227 233 219 155 80 48 132 219 \n",
            "254 254 254 254 254 254 254 254 254 254 254 254 254 254 254 254 253 252 245 252 164 115 124 108 113 117 122 127 132 138 144 148 158 182 204 210 210 211 207 199 186 181 165 155 133 123 107 103 114 125 137 146 156 167 171 168 177 188 200 207 212 216 215 211 226 227 228 230 231 232 233 233 234 232 230 228 227 226 227 228 229 227 225 223 222 224 227 229 230 234 232 226 238 221 168 165 159 154 150 148 150 161 182 202 213 213 225 226 225 233 192 108 46 68 166 \n",
            "254 254 254 254 254 254 254 254 254 254 254 254 254 254 254 254 254 252 247 254 185 96 111 80 79 85 93 101 109 120 133 142 163 189 212 217 215 214 211 204 201 193 173 180 147 134 112 121 130 140 151 153 152 158 173 186 183 191 199 203 208 215 219 218 224 224 225 226 228 230 232 233 233 231 229 226 225 225 226 227 229 227 225 224 224 225 227 228 233 233 226 222 239 218 150 136 134 128 128 142 160 176 189 198 212 204 220 222 211 234 221 145 72 44 138 \n",
            "254 254 254 254 254 254 254 254 255 255 255 255 255 255 255 255 255 250 245 252 197 77 45 50 57 52 56 70 81 94 121 149 163 193 201 217 226 221 225 219 212 203 195 188 171 146 129 124 137 141 147 153 159 166 173 178 187 195 205 213 216 216 215 215 224 223 223 225 228 230 230 229 224 227 230 229 225 224 226 229 223 224 225 227 228 229 230 231 235 232 226 226 232 225 182 137 131 143 146 171 163 182 185 203 200 214 217 217 226 225 217 217 63 47 89 \n",
            "254 254 254 254 254 254 254 254 255 255 255 255 255 255 255 255 254 247 253 246 179 40 45 40 30 32 42 56 63 72 97 125 162 195 205 221 229 225 228 222 229 220 213 210 200 182 168 164 154 155 157 159 161 166 173 177 183 190 201 209 213 214 214 215 221 221 221 224 226 227 226 224 222 225 228 227 223 222 224 227 223 224 225 226 227 228 229 230 235 237 235 232 233 229 204 173 152 157 160 172 170 182 193 208 212 215 218 219 223 224 223 222 144 65 48 \n",
            "254 254 254 254 254 254 254 254 255 255 255 255 255 255 255 255 253 247 254 248 146 29 44 31 38 43 53 58 52 48 62 83 155 189 203 222 231 225 228 222 221 213 208 209 208 199 189 184 176 175 173 170 169 170 174 178 184 191 200 208 212 214 215 216 217 217 219 222 224 224 221 219 218 221 224 223 219 218 220 223 227 228 229 230 229 230 231 233 231 237 236 230 227 226 216 204 178 174 176 171 178 179 199 211 212 202 204 209 208 212 220 220 215 137 113 \n",
            "254 254 254 254 254 254 254 254 255 255 255 255 255 255 255 255 254 251 246 254 114 45 39 34 67 68 71 68 55 42 41 49 148 186 203 225 234 228 231 225 228 221 216 218 222 219 211 203 194 193 191 187 183 181 183 184 193 198 206 212 215 216 218 219 216 217 219 222 223 222 218 215 213 217 219 218 214 213 215 219 225 226 227 228 229 230 231 233 231 236 235 226 220 219 217 214 195 184 188 171 183 174 198 207 215 204 210 219 213 212 218 214 177 133 127 \n",
            "254 254 254 254 254 254 254 254 255 255 255 255 255 255 255 255 251 254 248 253 108 35 38 56 78 74 70 65 57 46 38 36 148 188 209 231 240 235 238 234 237 232 227 227 230 227 220 210 204 205 205 203 199 197 196 197 203 207 212 215 216 216 218 219 217 218 219 222 223 222 217 213 208 212 214 213 209 208 210 214 216 217 219 222 224 226 228 229 235 235 233 228 225 224 221 218 203 191 196 178 188 175 194 200 203 206 217 220 207 188 171 159 137 105 98 \n",
            "254 254 254 254 254 254 254 254 255 255 255 255 255 255 255 255 247 255 255 245 146 19 50 86 89 79 67 57 51 44 36 30 142 184 207 231 241 236 241 238 236 235 232 229 228 225 214 202 204 205 206 205 204 204 206 207 207 210 213 214 214 214 216 218 219 219 220 221 222 220 216 213 204 207 209 208 204 203 206 209 212 214 217 220 223 227 229 232 233 229 227 228 230 229 224 219 207 200 199 191 193 185 194 199 188 210 209 192 173 139 105 95 79 79 106 \n",
            "254 254 254 254 254 254 254 254 255 255 255 255 255 255 255 255 247 254 250 246 208 64 70 104 97 87 69 51 40 36 33 30 135 179 203 227 238 233 240 238 240 243 242 237 232 229 219 205 194 194 192 191 192 196 203 208 208 210 213 214 213 214 217 220 221 219 219 219 219 218 215 213 200 203 205 204 200 199 202 205 206 209 212 217 221 225 229 231 231 227 224 227 230 228 223 220 210 207 198 202 192 196 195 204 188 217 185 134 120 95 71 84 73 72 123 \n",
            "254 254 254 254 254 254 254 254 255 255 255 255 255 255 255 255 250 254 232 252 251 136 84 107 90 82 64 43 31 31 35 38 136 180 204 229 240 235 243 242 228 236 238 232 226 222 210 197 184 181 177 174 176 184 195 203 208 211 213 214 215 217 220 223 221 219 217 217 217 216 214 212 198 201 203 202 198 197 200 203 196 198 202 207 212 217 221 224 236 232 230 231 231 227 224 223 210 210 195 206 190 202 196 208 168 194 133 57 50 45 43 82 100 34 44 \n",
            "254 254 254 254 254 254 254 254 254 254 254 254 254 254 254 254 254 255 251 244 247 236 182 121 87 74 56 31 63 92 44 35 139 178 211 228 239 242 237 238 239 237 235 233 230 224 216 210 182 186 178 172 179 180 181 193 196 207 217 220 216 213 215 220 216 218 217 214 215 217 215 209 203 204 205 204 201 195 189 185 193 196 199 203 208 214 220 225 225 224 223 223 224 224 221 218 211 192 202 206 204 165 224 161 137 134 88 65 79 56 30 53 66 48 35 \n",
            "254 254 254 254 254 254 254 254 254 254 254 254 254 254 254 254 249 252 251 249 254 254 238 212 142 62 21 42 92 81 34 64 138 179 213 230 240 243 240 241 236 236 235 235 232 227 220 214 195 195 181 171 176 178 181 194 196 204 214 217 215 212 213 216 217 219 218 216 217 219 216 210 205 203 198 193 189 188 187 188 194 194 196 200 206 214 220 224 225 224 222 223 224 223 220 217 215 218 207 178 191 220 151 68 46 47 49 77 96 55 17 32 47 41 36 \n",
            "254 254 254 254 254 254 254 254 254 254 254 254 254 254 254 254 254 254 253 251 250 252 253 254 253 86 32 44 39 46 61 54 138 181 217 231 240 244 242 244 238 238 238 238 235 229 221 214 197 197 183 172 177 178 179 190 199 205 212 217 219 219 219 219 219 221 221 219 220 222 218 212 210 207 202 197 194 192 193 193 196 193 191 195 204 213 220 222 225 223 222 222 223 222 219 216 192 205 191 179 199 167 75 49 40 25 22 38 49 42 41 54 26 31 35 \n",
            "254 254 254 254 254 254 254 254 254 254 254 254 254 254 254 254 254 254 253 253 251 246 247 252 252 209 97 11 57 68 60 83 140 185 220 230 238 242 241 243 241 241 240 239 235 228 218 211 188 189 178 171 177 176 174 182 194 198 205 213 220 223 224 223 221 224 224 222 223 224 221 214 210 210 210 209 206 201 197 194 198 192 188 191 202 212 218 220 224 222 220 220 221 220 216 213 202 210 190 186 187 40 28 35 34 34 37 27 21 44 54 32 19 27 32 \n",
            "254 254 254 254 254 254 254 254 254 254 254 254 254 254 254 254 252 251 253 254 254 252 251 252 229 254 200 99 111 86 71 70 147 190 221 228 235 240 239 239 238 238 238 238 235 229 220 213 190 188 170 159 164 164 163 172 178 182 190 202 213 221 223 222 222 225 226 225 226 227 222 215 209 209 209 207 205 201 197 195 199 193 188 191 200 210 215 216 222 220 218 217 218 216 213 210 204 204 185 155 131 25 41 13 19 22 33 24 11 33 44 14 24 27 28 \n",
            "254 254 254 254 254 254 254 254 254 254 254 254 254 254 254 254 254 254 254 252 251 252 253 254 254 229 254 231 149 69 94 50 154 195 220 224 232 239 239 236 232 232 233 235 236 233 228 224 210 199 170 149 149 149 151 162 166 171 181 195 208 218 222 225 222 226 227 227 227 227 223 216 217 213 207 202 199 200 203 205 199 195 192 194 200 207 212 213 219 217 215 214 214 212 209 205 195 171 165 126 70 59 45 32 44 20 18 20 5 11 32 36 29 27 26 \n",
            "254 254 254 254 254 254 254 254 254 254 254 254 254 254 254 254 252 254 255 252 251 253 254 254 246 246 251 244 227 92 81 103 160 197 218 220 231 242 241 236 231 231 231 234 237 237 234 230 221 210 179 154 151 146 142 150 158 166 178 191 203 213 220 225 222 226 228 227 228 228 223 216 222 218 211 206 203 205 208 211 199 198 197 198 200 204 209 211 216 214 212 211 211 209 205 202 212 165 133 90 46 37 27 31 36 22 28 39 28 15 20 27 24 26 28 \n",
            "254 254 254 254 254 254 254 254 254 254 254 254 254 254 254 254 248 252 255 254 254 254 253 249 253 252 254 252 248 114 95 92 164 199 217 218 232 243 243 238 235 234 233 235 237 237 236 232 220 213 188 168 163 151 139 140 151 159 172 185 195 205 213 219 222 226 228 228 228 228 223 215 215 215 214 212 210 208 206 205 199 200 201 200 201 203 207 210 215 213 210 209 209 207 203 200 200 162 80 26 55 24 65 23 17 24 27 20 16 20 25 25 16 23 30 \n",
            "252 252 252 253 253 254 254 254 254 254 254 254 254 254 254 254 253 253 254 254 254 254 254 254 247 253 245 245 252 180 78 106 167 189 212 224 229 234 240 243 230 244 246 236 232 240 241 232 223 214 182 159 165 167 154 145 144 146 160 177 183 184 199 220 221 223 223 224 228 230 226 219 223 220 216 214 214 212 210 208 208 199 197 205 210 207 206 209 196 211 201 206 208 196 202 205 191 99 45 36 22 29 45 36 24 25 25 23 21 21 24 26 23 28 31 \n",
            "252 252 252 253 253 254 254 254 254 254 254 254 254 254 254 254 253 253 254 254 254 253 254 254 250 253 252 253 250 221 93 118 173 187 205 222 234 241 239 234 241 224 224 243 248 233 212 208 220 203 176 168 179 175 165 167 156 151 156 170 179 183 195 211 219 223 225 225 226 229 226 221 223 220 216 214 213 212 212 211 212 203 200 204 207 203 203 206 204 212 198 201 204 195 199 195 157 65 21 31 27 26 35 30 30 28 25 20 17 17 20 24 18 21 24 \n",
            "252 252 252 253 253 254 254 254 254 254 254 254 254 254 254 254 253 253 254 254 254 253 254 254 251 249 254 254 242 251 116 114 166 177 191 205 218 225 220 211 233 230 222 209 197 189 186 186 176 169 163 179 199 191 180 188 184 172 167 174 183 189 199 211 213 220 225 224 224 225 223 220 222 219 216 213 212 213 214 215 218 211 206 206 206 203 203 205 208 211 193 194 195 192 196 181 138 55 20 38 34 18 13 9 30 27 23 17 14 15 20 24 21 20 20 \n",
            "252 252 252 253 253 254 254 254 254 254 254 254 254 254 254 254 253 253 253 254 254 254 254 254 252 249 253 251 242 251 155 102 145 160 176 185 191 198 201 202 171 185 185 162 140 134 133 130 120 141 165 192 215 209 194 195 197 185 174 172 175 181 191 202 206 216 223 222 218 217 217 216 220 218 216 213 211 212 215 218 222 218 213 210 208 206 207 208 204 206 192 190 187 188 193 168 82 32 16 36 40 32 28 23 22 21 19 17 15 17 22 26 24 24 24 \n",
            "252 252 252 253 253 254 254 254 254 254 254 254 254 254 254 254 252 253 253 254 254 254 254 254 255 253 254 248 251 239 204 104 133 144 157 170 183 190 187 180 145 102 61 45 37 33 50 78 123 165 196 208 220 218 202 193 187 179 167 159 154 157 167 177 197 209 218 218 214 213 214 214 216 217 216 213 210 211 214 218 219 218 215 210 207 208 209 209 198 202 195 193 183 186 190 153 42 29 25 27 28 31 31 23 17 19 20 20 19 19 20 22 21 34 45 \n",
            "252 252 252 253 253 254 254 254 254 254 254 254 254 254 254 254 252 252 253 253 254 254 254 254 255 254 253 243 253 224 227 124 136 132 132 143 161 164 145 121 35 54 84 110 130 144 156 162 178 214 225 213 213 215 203 191 187 182 172 161 153 153 159 165 183 196 207 209 209 211 213 212 213 215 216 214 210 208 211 215 211 215 214 208 205 206 207 205 196 199 196 194 180 183 178 121 36 44 41 26 18 21 19 12 19 21 23 23 20 18 17 17 41 65 87 \n",
            "252 252 252 253 253 254 254 254 254 254 254 254 254 254 254 254 252 252 253 253 254 254 254 254 254 250 253 242 248 231 224 164 131 124 114 111 117 120 110 96 85 135 162 148 147 180 204 200 215 228 220 203 205 208 200 194 195 190 181 171 167 166 163 160 162 174 187 195 201 207 210 209 209 213 217 215 210 206 207 210 207 214 216 209 204 204 203 199 196 192 188 188 174 174 153 74 16 29 31 24 26 29 30 32 21 22 23 22 19 18 18 20 5 22 38 \n",
            "252 252 252 253 253 254 254 254 254 254 254 254 254 254 254 254 252 252 253 253 254 254 254 254 253 247 254 247 244 249 219 204 117 118 110 94 86 96 116 132 144 146 139 131 140 168 197 212 216 211 195 190 203 205 199 201 193 186 176 169 169 168 159 148 143 156 171 182 192 202 206 205 207 212 217 216 210 205 205 207 207 217 219 211 205 205 202 197 195 186 178 179 166 164 131 36 24 29 27 26 28 20 15 23 20 20 20 19 18 20 24 27 32 34 35 \n",
            "252 252 252 253 253 254 254 254 254 254 254 254 254 254 254 254 253 253 253 253 254 254 254 254 254 252 253 253 243 225 221 229 152 114 112 119 89 70 75 70 90 80 98 128 142 157 182 198 206 208 207 205 204 203 196 189 173 196 168 148 153 150 151 146 134 132 140 162 185 196 197 196 202 201 206 216 220 215 207 203 202 196 194 202 208 206 198 193 190 182 163 167 147 159 99 23 35 30 25 23 24 24 22 19 15 28 32 25 19 21 20 15 59 64 35 \n",
            "252 252 252 253 253 254 254 254 254 254 254 254 254 254 254 254 253 253 253 253 253 254 254 254 255 252 253 253 241 224 220 228 203 151 112 114 110 77 62 79 86 82 96 111 117 139 175 197 198 196 194 198 206 211 207 199 197 206 182 165 148 126 129 128 118 114 120 141 164 180 188 192 195 195 199 207 209 204 198 197 194 189 189 196 200 197 191 189 172 170 164 165 148 129 65 4 31 28 24 23 23 23 20 17 23 17 20 27 17 5 16 42 21 42 33 \n",
            "252 252 252 253 253 254 254 254 254 254 254 254 254 254 254 254 253 253 253 253 253 254 254 254 255 253 252 251 239 223 220 227 231 194 129 107 123 102 78 96 80 82 97 101 93 110 152 180 196 199 202 206 210 212 212 212 215 199 168 145 103 74 90 96 110 107 114 133 154 170 179 185 187 187 191 196 195 190 189 192 190 188 188 192 191 185 181 182 173 167 160 144 133 85 40 13 26 24 22 22 22 21 18 15 19 10 14 28 28 20 28 49 21 40 28 \n",
            "252 252 252 253 253 254 254 254 254 254 254 254 254 254 254 254 253 253 253 254 253 254 254 254 255 253 252 249 237 223 221 227 229 228 180 125 115 117 105 97 76 77 97 106 86 83 119 156 199 206 214 211 198 185 183 189 159 137 108 90 59 60 102 109 123 121 127 141 154 162 167 171 181 181 184 187 185 181 183 189 192 191 192 192 185 176 174 176 170 162 154 125 116 50 24 29 20 20 20 21 20 18 16 14 12 17 19 23 36 47 40 23 48 58 37 \n",
            "252 252 252 253 253 254 254 254 254 254 254 254 254 254 254 254 254 254 254 254 254 254 254 254 255 253 252 247 235 225 224 230 235 243 235 180 118 105 106 85 77 67 88 111 92 74 103 145 184 180 176 170 154 133 118 114 73 73 69 78 84 121 172 167 154 148 144 146 148 149 153 159 175 175 177 180 178 175 179 186 191 190 191 190 182 172 171 175 152 149 148 119 104 30 8 20 16 17 19 19 18 16 15 14 15 21 21 20 29 42 44 36 39 56 43 \n",
            "252 252 252 253 253 254 254 254 254 254 254 254 254 254 254 254 254 254 254 254 254 254 254 254 254 253 252 245 234 227 229 234 242 234 250 236 157 105 99 90 76 60 79 109 102 90 112 144 147 124 105 102 99 85 68 60 72 96 110 134 160 190 213 191 187 176 162 152 146 146 155 165 171 169 171 175 175 174 178 183 186 185 185 185 178 170 169 173 158 149 134 100 68 21 11 24 14 16 18 17 15 14 15 16 17 12 17 27 26 29 60 99 55 73 60 \n",
            "252 252 252 253 253 254 254 254 254 254 254 254 254 254 254 254 254 254 254 254 254 254 254 254 253 254 251 244 235 230 233 239 243 234 245 249 210 144 104 96 68 61 81 110 119 122 129 130 105 86 71 67 65 67 81 98 138 163 167 189 211 211 208 192 196 187 176 166 158 156 164 174 171 168 169 175 179 180 181 184 190 187 185 182 176 167 164 167 163 146 113 76 28 20 24 32 13 16 17 16 14 13 16 19 17 14 22 36 36 35 61 96 68 80 61 \n",
            "252 252 252 253 253 254 254 254 254 254 254 254 254 254 254 254 254 254 254 254 254 254 254 254 253 254 251 244 235 232 236 241 247 250 242 242 241 185 111 86 58 66 91 116 133 147 138 109 79 80 80 72 59 70 122 175 176 192 181 198 218 207 205 210 183 181 180 178 171 165 167 174 174 169 170 178 185 186 186 188 201 195 189 184 175 164 159 159 138 126 97 71 14 25 24 17 13 16 17 15 12 13 17 21 21 30 36 37 42 46 37 22 6 20 7 \n",
            "254 253 253 252 252 252 253 253 254 254 254 254 254 254 254 254 253 254 254 255 255 254 254 253 254 253 251 245 237 232 233 235 246 236 248 219 245 238 118 94 76 59 91 116 119 119 95 75 86 56 42 71 118 153 169 176 180 185 190 196 206 214 214 209 192 174 166 173 173 166 170 184 185 188 185 181 185 194 192 183 185 176 187 167 159 165 146 152 130 118 73 27 15 19 19 20 17 29 14 5 20 14 11 35 29 29 29 5 10 26 36 90 85 96 106 \n",
            "253 253 252 252 252 252 253 253 254 254 254 254 254 254 254 254 253 254 254 255 255 254 254 253 254 254 251 246 238 234 235 237 248 247 247 240 243 239 171 86 84 69 86 90 84 83 65 59 41 58 89 123 149 166 182 194 192 193 192 193 197 202 199 192 191 183 172 166 165 166 169 172 186 190 186 178 180 188 189 182 180 173 181 162 153 155 136 138 106 83 48 22 19 24 19 10 4 17 25 16 12 28 34 20 18 11 14 40 111 141 111 123 110 124 138 \n",
            "252 252 251 251 251 252 253 253 254 254 254 254 254 254 254 254 253 254 254 255 255 254 254 253 252 252 250 244 236 233 235 238 239 247 237 248 230 232 222 88 87 84 94 80 63 54 41 51 45 80 117 135 142 155 178 196 194 192 187 185 188 192 189 182 182 181 170 156 154 164 167 163 180 189 191 184 181 185 184 177 174 169 173 156 145 141 120 116 97 57 26 17 16 20 18 8 26 7 15 22 14 35 44 12 87 123 135 122 128 107 84 126 137 132 123 \n",
            "250 250 250 250 250 251 253 253 254 254 254 254 254 254 254 254 253 254 254 254 254 254 254 253 250 250 247 240 232 229 232 235 233 243 231 241 221 228 241 132 72 85 106 89 64 49 39 60 105 123 136 137 144 166 186 194 180 179 176 175 181 189 189 183 171 166 158 151 152 160 166 167 172 187 197 194 189 187 181 171 171 169 166 152 138 126 106 94 61 26 14 24 24 23 25 22 33 3 10 43 58 82 126 157 121 135 109 91 117 113 105 148 147 150 152 \n",
            "248 248 248 249 250 251 253 253 254 254 254 254 254 254 254 254 253 253 254 254 254 254 253 253 251 250 246 238 229 226 228 232 237 242 237 231 225 235 238 204 66 72 99 89 61 50 53 80 119 130 136 137 147 164 173 170 165 167 168 169 175 183 184 181 170 157 151 157 161 159 165 177 173 188 197 192 187 187 182 174 167 168 157 145 130 110 92 73 43 26 24 33 25 10 11 22 12 54 106 149 154 115 100 131 119 119 91 110 171 179 159 163 122 126 131 \n",
            "246 246 247 248 249 251 253 254 254 254 254 254 254 254 254 254 253 253 254 254 254 254 253 253 253 251 246 236 226 222 224 227 235 233 239 221 225 235 226 248 112 75 84 78 50 54 76 101 112 121 124 119 115 121 132 139 151 159 166 167 168 171 172 170 177 160 156 168 172 164 168 182 180 188 189 180 177 181 181 174 159 162 143 134 117 91 75 50 33 29 17 15 24 25 44 82 80 118 123 121 141 134 112 118 132 145 119 98 83 72 103 140 161 155 150 \n",
            "245 245 246 247 249 251 253 253 254 254 254 254 254 254 254 254 253 253 254 254 254 254 253 253 253 250 243 231 219 214 215 218 226 221 232 220 218 227 226 246 194 100 76 69 42 60 93 105 115 115 113 105 93 88 100 117 130 145 160 163 162 163 165 165 173 166 164 170 173 172 173 179 178 183 182 174 172 175 169 158 147 150 126 118 100 71 57 28 3 21 12 24 76 99 119 169 160 165 151 136 142 141 110 75 79 107 126 148 129 99 105 96 113 114 118 \n",
            "244 244 245 246 248 251 253 253 254 254 254 254 254 254 254 254 253 253 254 254 254 254 253 253 249 246 237 225 212 206 206 209 221 218 229 230 215 224 238 232 252 119 73 66 39 63 95 93 83 80 84 90 85 72 70 78 110 130 152 160 160 162 166 169 162 166 167 165 169 177 178 173 168 176 179 176 175 172 156 137 137 141 113 106 88 57 45 13 16 57 60 84 148 149 125 149 114 112 143 159 137 130 133 117 103 88 81 119 134 142 162 133 151 136 121 \n",
            "248 249 249 250 251 252 253 253 254 254 254 254 254 254 254 254 253 254 254 255 255 254 253 252 249 247 237 219 200 193 197 203 211 217 223 224 222 227 238 248 252 214 97 63 70 70 108 102 81 67 64 77 81 70 65 70 99 131 142 153 159 163 175 161 160 165 171 176 182 184 176 166 182 180 175 169 165 158 146 133 137 109 106 82 68 18 26 42 106 140 147 105 116 113 111 95 119 64 32 100 137 149 118 119 129 143 124 102 91 87 104 121 161 164 166 \n",
            "249 249 250 250 251 252 253 253 254 254 254 254 254 254 254 254 253 254 254 255 255 254 253 252 251 249 238 220 203 196 199 205 218 224 230 231 229 232 242 251 236 248 169 74 54 90 112 89 86 71 62 62 55 45 49 63 95 132 151 167 173 175 183 167 163 167 171 175 182 187 183 175 170 172 171 168 162 154 143 134 117 98 81 52 82 103 128 119 161 118 113 117 140 132 134 112 141 90 66 50 71 65 105 135 133 136 133 142 141 108 86 87 83 118 149 \n",
            "249 250 250 251 252 252 253 253 254 254 254 254 254 254 254 254 253 254 254 255 255 254 253 252 251 248 236 218 201 195 199 204 213 220 227 230 230 234 242 249 245 252 238 154 61 79 127 93 92 80 66 54 40 36 52 73 114 152 171 184 187 188 197 182 174 176 177 179 185 190 187 180 182 175 162 148 137 130 127 125 97 88 97 105 129 125 127 120 145 123 122 86 88 123 160 121 132 119 122 97 94 62 65 60 152 122 104 120 133 116 112 140 112 91 72 \n",
            "250 250 251 251 252 252 253 253 254 254 254 254 254 254 254 254 253 254 254 255 255 254 253 252 251 246 232 212 196 190 193 198 206 213 223 229 232 237 244 250 253 236 253 230 129 71 94 116 94 88 76 64 56 62 83 103 143 176 186 192 190 191 203 192 189 190 189 188 191 193 187 179 169 163 156 151 141 123 103 92 94 94 104 105 95 81 100 127 107 88 95 77 67 49 80 96 92 116 121 139 125 135 105 87 64 51 65 97 119 106 94 122 135 125 116 \n",
            "251 251 252 252 252 252 253 253 254 254 254 254 254 254 254 254 253 254 254 255 255 254 253 252 252 245 229 209 194 189 192 196 216 222 230 236 241 245 251 253 249 251 252 246 229 142 70 120 93 91 85 79 82 96 114 124 152 182 190 194 192 191 202 190 194 196 196 195 196 195 187 176 180 158 136 127 124 118 111 108 93 109 103 79 62 77 88 91 93 100 97 87 114 71 45 53 112 139 139 149 135 157 139 127 150 89 44 35 79 114 108 124 110 111 113 \n",
            "252 252 252 252 252 252 253 253 254 254 254 254 254 254 254 254 253 254 254 255 255 254 253 252 253 245 228 209 197 195 199 204 230 233 237 241 244 247 251 253 240 253 247 241 253 223 138 89 91 94 90 85 92 110 121 121 139 171 184 196 201 201 208 190 189 192 192 192 193 192 183 173 187 157 127 114 111 107 107 110 92 85 78 104 109 107 73 53 84 130 114 74 127 120 90 81 40 39 57 62 115 134 146 123 115 121 132 87 57 52 41 76 99 94 91 \n",
            "253 253 253 253 253 253 252 252 253 253 254 254 254 254 254 254 253 254 254 255 255 254 253 252 252 243 226 209 200 202 209 215 233 234 236 238 240 244 248 250 247 253 247 254 248 253 234 132 94 99 94 83 86 104 113 110 122 153 166 184 197 204 212 194 185 186 183 180 180 180 172 163 138 130 129 133 122 95 71 63 103 69 56 107 109 94 72 92 88 95 85 69 103 82 89 124 112 77 62 52 97 106 115 97 129 119 135 118 125 120 58 47 35 65 92 \n",
            "253 253 253 253 253 253 252 252 253 253 254 254 254 254 254 254 253 254 254 255 255 254 253 252 249 239 222 207 202 206 215 222 232 232 233 236 240 245 250 253 246 252 242 250 249 243 251 230 98 106 99 81 79 96 108 106 110 136 144 161 179 194 207 192 186 184 177 170 168 167 161 152 125 111 101 96 82 67 67 78 113 116 105 110 64 49 41 69 90 108 110 69 82 93 105 86 120 116 97 106 79 74 52 56 76 95 142 125 111 112 95 138 101 74 50 \n",
            "250 252 253 252 251 251 252 253 251 251 251 251 252 252 253 253 255 254 253 252 252 253 253 252 251 241 224 212 208 211 217 220 234 235 236 239 242 246 249 251 253 247 253 254 248 250 253 247 226 103 84 71 84 91 98 94 82 94 114 138 159 172 179 182 171 168 160 152 152 152 139 123 105 94 84 54 53 82 89 96 82 74 78 82 75 68 54 31 50 67 109 103 60 72 93 64 59 89 106 101 91 87 83 70 67 59 96 110 114 121 100 101 127 102 88 \n",
            "250 252 253 252 250 249 250 252 251 251 251 252 252 252 253 253 255 255 255 255 254 254 253 252 249 238 223 212 211 217 225 230 240 241 241 242 244 246 248 249 253 248 253 254 246 249 253 244 240 189 104 76 87 87 109 76 63 72 94 124 145 150 150 151 147 145 137 124 118 116 109 98 82 75 80 68 68 75 57 51 62 61 76 85 72 63 62 57 39 30 48 59 54 78 110 108 91 101 109 89 81 95 103 110 129 92 69 47 66 102 106 122 99 103 104 \n",
            "250 251 252 251 249 248 248 249 251 251 251 252 252 253 253 253 254 254 254 254 254 254 252 250 248 237 221 211 211 219 229 235 240 241 242 243 244 246 248 249 253 249 253 252 245 249 252 240 239 250 158 96 82 95 102 75 51 49 64 96 116 118 117 123 129 127 117 103 92 89 87 84 90 78 80 66 58 65 67 87 79 56 59 81 89 89 89 83 83 59 46 49 46 44 61 83 106 93 93 60 53 79 85 106 117 132 108 50 55 90 90 95 107 132 144 \n",
            "249 250 251 249 247 246 246 247 250 251 251 251 252 252 252 253 251 251 251 252 253 253 251 250 248 237 221 211 210 217 226 232 235 236 238 240 243 247 249 251 252 249 253 252 246 252 252 236 217 225 198 123 70 102 80 91 59 43 43 65 83 87 94 106 109 103 92 81 75 74 74 74 62 43 49 51 53 52 44 61 67 33 28 53 65 68 72 73 96 94 82 76 65 35 28 56 62 55 85 81 88 102 74 77 60 104 110 91 92 76 50 60 83 96 102 \n",
            "247 248 249 247 245 244 245 246 249 249 250 250 250 251 251 251 252 251 251 251 252 252 251 250 241 232 220 212 213 220 228 233 236 236 238 240 244 247 249 251 251 249 254 252 248 253 251 229 197 167 165 135 68 86 77 89 72 51 39 47 58 61 68 80 76 65 55 54 57 60 58 56 80 44 38 47 62 62 42 45 32 21 34 51 38 27 43 62 84 105 103 98 98 69 39 45 49 30 42 47 70 95 84 93 84 79 70 103 128 87 69 108 85 65 54 \n",
            "243 245 246 245 244 243 244 246 247 247 247 248 248 249 249 249 254 253 253 253 253 250 246 242 223 219 214 214 219 228 235 238 242 243 243 244 245 247 248 250 250 250 254 252 249 253 244 215 191 140 103 126 83 64 89 64 72 58 45 41 42 41 42 44 53 43 38 45 54 55 51 47 47 31 38 34 28 26 25 49 30 25 42 59 49 39 45 51 79 96 93 96 117 108 69 47 83 51 20 17 29 44 62 74 95 103 80 82 97 95 115 143 104 70 50 \n",
            "240 242 244 244 243 243 245 247 245 245 245 246 246 247 247 247 253 253 253 253 251 243 232 224 202 202 204 211 221 230 235 237 242 243 243 244 246 247 248 250 251 251 254 251 247 250 233 196 183 141 103 112 105 70 82 52 60 57 46 32 28 31 30 24 38 33 36 47 54 49 43 41 19 37 74 73 53 37 27 47 29 16 21 38 46 52 54 44 65 72 73 86 115 121 96 74 83 86 66 87 82 45 47 30 40 82 78 64 58 72 105 100 118 102 91 \n",
            "238 240 242 243 243 243 245 247 244 244 244 245 245 245 246 246 250 251 253 252 247 234 218 207 188 191 197 207 218 227 230 231 237 238 239 241 244 247 249 251 252 252 253 250 245 246 223 182 172 145 148 107 119 95 57 59 50 53 42 22 17 28 32 24 20 21 30 42 43 33 26 27 56 42 45 37 38 40 22 21 24 20 27 31 31 48 70 75 81 82 85 93 99 94 79 68 70 92 74 111 103 56 75 57 25 27 36 85 92 71 84 79 56 69 71 \n",
            "237 237 238 239 240 242 243 243 245 246 247 246 244 243 245 247 251 252 252 248 239 227 218 213 202 192 191 206 220 226 228 232 238 239 242 245 248 250 251 252 249 253 252 241 233 225 206 185 160 147 130 126 140 139 97 47 65 39 32 26 22 9 39 8 35 32 36 41 32 22 33 54 46 41 40 42 36 24 17 19 22 34 31 18 21 40 46 37 74 76 74 76 78 67 70 94 80 81 80 89 115 133 115 83 73 59 37 37 60 74 72 71 76 56 41 \n",
            "234 235 236 238 240 242 244 245 241 243 245 245 244 245 248 250 250 252 252 249 242 234 228 224 214 204 201 212 224 230 234 237 239 240 243 245 248 250 251 252 248 252 249 236 228 221 203 183 157 146 129 125 142 158 146 122 43 23 34 25 37 17 15 29 17 41 47 29 30 50 53 37 43 37 33 33 29 20 18 22 32 42 40 26 17 20 21 16 12 28 47 70 83 71 62 74 100 112 125 125 108 96 102 116 101 101 92 65 33 30 55 80 89 73 58 \n",
            "232 233 234 237 239 242 244 245 240 242 245 245 244 245 247 249 250 251 252 250 245 240 236 235 228 217 211 217 227 234 238 242 241 242 244 246 248 250 252 252 250 252 246 231 223 219 203 183 163 152 135 126 137 158 166 163 158 91 53 8 33 31 30 81 88 43 13 29 54 56 43 35 33 27 23 22 21 20 23 29 40 47 53 48 37 30 31 36 47 41 26 24 33 36 45 68 58 60 82 109 108 92 99 122 120 101 98 89 63 54 49 30 33 39 44 \n",
            "233 233 234 236 237 239 240 241 240 242 244 244 243 242 243 245 251 251 251 247 243 239 237 237 234 226 218 219 227 235 241 245 244 244 245 246 248 250 252 253 253 253 244 228 222 220 207 188 172 160 143 133 137 149 157 158 152 148 161 131 125 128 193 253 113 35 4 46 69 36 17 35 21 18 16 17 19 23 29 34 23 24 31 38 34 25 29 40 63 57 40 33 36 27 21 30 26 13 23 60 89 96 105 120 96 90 119 133 107 96 88 56 29 41 52 \n",
            "235 235 235 235 235 235 235 235 235 238 241 242 242 241 242 244 251 251 249 244 238 234 232 232 236 231 225 224 230 239 246 246 247 246 246 247 248 250 252 253 252 252 241 224 220 222 210 191 184 165 146 141 148 156 160 161 169 162 160 166 164 170 225 168 25 33 48 56 44 23 15 20 17 18 18 18 20 25 28 29 29 20 19 26 25 15 16 26 31 37 37 42 52 42 26 25 30 27 24 22 25 40 64 83 80 68 94 115 106 114 120 94 53 49 45 \n",
            "236 236 235 234 233 233 232 232 228 232 237 239 240 240 241 243 248 248 247 242 237 232 230 230 237 237 234 232 236 245 248 249 249 249 248 248 248 250 252 253 249 249 237 221 219 224 213 194 203 172 144 140 150 158 162 164 156 166 162 165 147 159 229 124 7 38 55 41 24 22 21 15 20 24 25 22 21 23 22 19 42 32 27 29 27 21 21 27 28 29 18 15 28 32 32 40 26 40 40 22 10 18 27 27 63 49 60 79 87 102 107 87 90 84 79 \n",
            "234 234 233 233 232 232 232 232 230 233 237 238 236 234 234 234 243 244 245 243 240 237 236 236 237 241 241 238 241 249 249 246 250 250 249 248 249 250 252 253 249 249 237 222 222 228 218 199 212 175 142 137 147 152 155 160 170 163 149 154 178 190 181 32 54 37 25 25 24 19 18 23 22 26 26 20 19 22 22 17 26 25 24 22 18 16 19 23 19 27 24 21 29 26 17 18 24 39 45 41 43 48 41 25 27 47 68 71 59 59 76 92 93 94 96 \n",
            "232 232 232 232 232 233 233 233 237 239 240 238 233 228 224 223 238 241 244 245 244 243 243 243 235 242 244 241 243 249 248 242 251 250 250 248 249 250 252 253 252 251 240 226 226 234 224 204 205 169 140 140 149 153 156 163 161 169 169 151 177 181 140 29 48 32 23 25 24 16 16 24 18 24 23 17 17 24 25 21 23 31 34 27 17 15 20 23 18 27 23 19 28 30 25 30 22 31 34 27 25 34 43 46 24 19 8 10 31 44 48 54 112 110 107 \n",
            "230 230 230 231 235 239 244 247 247 248 249 247 242 232 223 217 232 236 241 244 244 243 242 241 237 238 241 244 246 248 248 249 249 248 248 248 248 250 252 253 247 251 238 227 233 232 219 212 211 159 132 144 155 160 166 167 171 172 173 163 179 176 51 46 29 24 18 17 20 22 21 19 19 20 19 18 17 18 22 26 26 17 21 25 15 15 24 23 25 25 26 28 28 25 20 16 20 28 24 24 38 39 27 24 26 26 33 38 32 22 26 39 50 71 88 \n",
            "237 236 236 237 240 243 247 250 251 252 253 252 249 244 238 234 236 237 240 243 245 244 242 240 237 238 241 243 246 247 248 249 249 248 248 248 249 250 252 253 247 251 238 227 234 232 219 213 207 157 132 143 152 156 162 163 174 168 176 178 171 116 26 50 26 22 17 16 18 20 19 18 20 20 20 18 16 17 21 24 32 24 29 32 22 20 27 26 25 26 27 28 28 25 20 16 26 34 29 28 40 39 28 24 22 24 32 40 34 24 25 36 28 43 56 \n",
            "245 244 244 244 246 249 252 253 254 253 253 253 253 251 250 249 241 240 239 242 245 246 242 238 236 237 240 243 246 247 248 249 248 248 248 248 249 250 252 252 247 250 238 229 236 232 219 214 202 157 136 145 151 153 158 158 170 167 173 178 160 68 17 35 24 21 17 16 17 18 18 17 20 20 20 18 16 16 19 21 31 25 32 35 23 19 24 23 26 27 28 28 27 24 20 17 29 36 31 28 38 37 25 22 19 21 31 41 37 26 26 35 18 23 28 \n",
            "251 250 250 250 251 252 254 254 254 254 253 252 252 252 252 252 247 242 239 240 245 245 241 236 235 237 239 243 245 247 248 249 248 248 248 249 249 250 251 252 247 248 237 231 238 232 218 216 199 162 145 152 153 153 157 156 161 165 165 165 150 59 33 11 23 21 19 18 18 18 18 18 20 21 21 18 16 15 17 19 26 22 32 36 23 18 24 24 27 28 30 29 26 23 20 19 25 34 29 25 33 32 21 20 21 21 28 37 35 26 28 37 31 27 24 \n",
            "253 253 252 252 252 253 254 254 254 254 253 253 252 252 252 252 251 245 239 239 242 243 239 234 234 236 239 242 245 247 249 249 247 248 248 249 250 251 251 251 247 247 236 233 241 233 218 217 199 168 156 161 157 156 158 155 158 157 161 169 141 47 38 9 23 23 22 21 19 19 19 20 20 21 21 20 17 16 17 19 25 22 33 38 25 21 29 30 28 30 32 30 25 21 20 20 22 31 27 23 31 30 21 22 22 19 22 30 29 23 26 36 46 36 28 \n",
            "252 252 252 253 253 253 253 253 254 254 254 254 253 253 252 251 252 247 241 238 238 238 236 233 233 235 238 242 245 247 249 249 247 247 249 250 251 251 251 251 247 245 236 235 243 233 218 219 197 173 165 167 160 156 157 153 162 146 162 186 121 21 23 26 22 23 24 23 20 19 19 21 19 21 22 21 19 18 19 21 21 19 31 35 21 18 28 32 29 32 33 30 24 20 20 22 24 34 30 25 32 30 23 25 24 18 19 26 26 21 24 34 44 33 24 \n",
            "251 251 252 253 253 253 253 253 253 253 254 254 254 253 252 251 252 248 242 237 234 233 233 233 232 234 237 241 245 247 249 249 246 247 249 250 250 251 251 251 247 244 235 237 245 233 218 220 192 173 168 169 158 153 153 148 161 142 162 179 88 14 14 29 20 22 24 23 19 17 18 20 19 21 23 23 21 21 22 23 21 19 29 32 17 14 26 30 30 33 35 31 24 19 20 23 29 39 35 28 33 30 23 26 29 23 24 32 32 26 27 35 36 27 20 \n",
            "250 251 252 253 254 254 254 254 252 252 253 254 254 253 252 251 251 248 243 237 232 230 231 233 232 234 237 241 244 247 249 249 246 247 249 250 251 251 251 250 248 244 235 238 246 233 218 221 187 171 169 169 156 149 149 144 157 146 160 156 59 30 21 14 18 21 23 22 18 15 16 18 19 21 24 24 23 22 24 25 29 26 35 35 19 16 28 34 30 34 35 31 23 19 20 23 32 42 37 29 31 28 21 24 35 30 32 41 41 33 32 38 34 26 21 \n",
            "249 251 253 254 254 254 254 253 251 253 254 252 249 249 251 251 251 248 237 226 224 230 235 235 227 230 236 241 244 247 247 247 249 249 250 250 251 251 251 251 246 243 241 241 240 233 221 210 189 185 177 167 157 146 139 134 136 137 166 155 49 4 30 16 21 19 18 19 21 22 21 19 18 23 27 25 24 25 24 22 24 22 22 24 24 22 26 31 30 35 37 33 25 19 20 24 40 43 32 45 25 31 19 28 16 33 49 33 46 56 32 49 41 37 32 \n",
            "253 253 253 252 251 250 248 248 252 252 250 250 251 253 252 251 250 241 228 220 224 233 236 234 227 230 236 241 245 247 249 249 250 250 250 250 251 251 251 252 246 244 243 245 248 246 240 234 234 231 227 221 215 209 205 202 186 183 190 149 36 15 22 11 21 19 18 19 21 22 21 19 21 24 25 23 22 23 25 25 25 23 23 22 21 19 22 26 29 33 34 29 22 18 21 26 39 38 33 42 35 34 23 22 29 41 48 27 35 47 34 53 39 36 32 \n",
            "251 252 252 252 252 253 253 253 253 251 249 249 251 251 248 245 245 235 221 215 221 231 232 227 226 230 235 241 245 248 251 251 250 250 250 251 251 252 252 252 248 246 245 247 251 253 253 253 254 254 253 253 252 250 249 249 242 234 222 130 27 31 22 14 21 19 18 19 21 22 21 19 24 24 23 21 20 22 25 28 30 30 28 26 23 23 25 27 28 31 31 25 18 17 23 30 38 30 34 36 46 34 27 18 34 45 48 27 27 37 32 47 36 33 30 \n",
            "249 250 250 250 248 244 240 238 243 245 249 252 252 248 246 248 239 234 226 220 223 228 227 221 226 229 235 240 245 249 251 251 250 251 251 251 252 252 252 253 252 250 249 249 251 252 253 253 250 250 251 251 252 252 252 252 253 251 239 90 25 33 26 20 21 19 18 19 21 22 21 19 24 23 23 23 22 21 24 28 29 31 30 25 23 25 27 27 29 30 29 23 17 18 27 35 36 26 36 29 46 27 29 19 25 40 48 36 31 33 31 34 31 29 27 \n",
            "252 252 250 244 233 220 207 200 213 220 229 233 227 221 228 240 234 239 240 236 233 233 231 228 229 232 236 241 245 248 250 250 251 251 251 252 252 253 253 253 253 254 253 253 252 251 250 249 252 252 252 252 252 252 251 251 247 244 232 47 29 21 26 20 21 19 18 19 21 22 21 19 22 20 23 28 27 21 21 26 21 25 25 19 17 22 25 23 31 31 29 22 17 20 30 40 35 27 37 25 37 18 27 25 23 38 46 44 35 35 39 30 28 26 24 \n",
            "252 252 250 244 234 221 209 201 202 202 201 194 179 173 190 213 235 245 252 250 245 244 244 242 236 238 241 244 247 249 250 250 251 252 252 252 253 253 253 254 252 253 253 254 254 253 252 251 254 254 254 254 253 253 252 252 244 246 209 27 38 17 25 23 21 19 18 19 21 22 21 19 22 19 22 30 29 21 20 26 20 26 26 18 17 24 27 23 31 32 29 23 18 20 31 41 38 33 35 27 27 17 24 28 33 42 42 44 34 37 53 36 27 25 24 \n",
            "251 251 251 249 246 242 238 236 239 233 225 214 198 190 207 230 244 250 253 252 250 251 250 248 245 246 248 249 250 251 251 251 252 252 252 253 253 254 254 254 251 252 253 254 254 254 254 254 252 252 252 252 252 251 251 251 248 254 168 23 38 23 20 27 21 19 18 19 21 22 21 19 25 19 21 28 27 19 20 29 25 33 32 22 19 27 29 24 30 31 29 23 17 19 29 38 45 40 30 33 24 25 20 25 38 42 36 42 33 37 59 34 28 27 26 \n",
            "253 252 251 250 250 250 252 252 251 247 248 247 237 228 236 252 252 253 251 248 249 252 251 245 251 251 252 253 253 253 253 253 252 252 253 253 253 254 254 254 254 253 253 252 252 253 253 254 253 253 253 254 254 253 253 253 246 254 128 19 27 27 10 27 21 19 18 19 21 22 21 19 28 20 19 26 25 17 21 32 26 34 32 20 17 24 25 19 28 30 28 22 16 18 27 36 50 45 26 39 25 34 18 22 34 38 32 43 34 36 56 23 30 29 28 \n",
            "251 251 251 251 251 251 251 251 251 251 251 251 251 251 251 251 253 253 254 254 254 253 253 253 252 253 253 253 253 253 253 253 254 254 254 254 254 254 254 254 254 254 254 254 254 254 254 254 254 254 254 254 254 254 254 254 253 247 71 26 18 27 19 25 22 20 18 19 21 23 23 22 29 26 23 23 22 21 27 35 20 31 34 25 21 26 30 28 24 28 29 25 21 24 32 38 45 43 40 37 33 28 23 19 31 24 27 39 44 37 32 33 23 29 35 \n",
            "252 252 252 252 252 252 252 252 252 252 252 252 252 252 252 252 254 254 254 254 254 254 254 254 253 253 253 254 254 253 253 253 254 254 254 254 254 254 254 253 254 254 254 254 254 254 254 254 254 254 254 254 254 254 254 254 253 248 61 31 22 28 17 23 22 20 18 19 21 23 23 21 25 23 22 24 24 23 28 36 27 35 35 24 19 26 32 31 26 31 32 27 23 27 34 40 28 30 31 31 29 27 26 26 46 35 30 35 35 28 25 29 25 32 39 \n",
            "254 254 254 254 254 254 254 254 254 254 254 254 254 253 254 254 254 254 254 254 254 254 254 254 254 254 254 254 254 254 254 254 254 254 253 253 253 253 253 253 253 253 254 254 254 254 254 254 253 254 254 255 254 254 254 254 249 240 41 35 24 28 15 21 22 20 18 18 21 23 22 21 21 20 22 26 26 25 28 35 31 37 34 22 18 26 33 32 27 33 34 27 22 27 34 38 30 34 37 34 27 23 25 28 50 39 35 38 36 25 20 23 31 39 47 \n",
            "255 255 255 255 255 255 255 255 255 254 254 254 254 254 254 254 254 254 254 254 254 254 254 254 255 255 255 255 255 255 255 255 254 254 254 253 253 252 252 251 252 253 253 253 254 254 254 254 254 254 255 255 254 254 253 253 245 217 21 34 21 27 15 22 22 19 17 18 20 22 22 21 20 20 23 27 27 24 26 31 26 32 30 20 17 26 31 29 25 33 33 24 19 25 32 33 33 39 42 37 26 20 23 29 37 33 38 47 45 31 22 23 29 38 47 \n",
            "255 255 255 255 255 255 255 255 255 255 255 255 255 254 255 255 254 254 254 254 254 254 254 254 255 254 255 255 255 255 255 254 254 254 254 253 252 251 251 250 251 251 252 252 253 253 253 254 254 255 255 255 254 254 252 251 250 185 15 34 17 25 16 23 21 19 17 18 20 22 21 20 22 22 25 28 26 22 22 26 18 25 25 17 17 25 27 23 25 35 35 23 17 25 32 31 24 31 37 33 24 20 27 35 31 30 36 47 46 34 27 30 22 31 40 \n",
            "255 255 255 255 255 255 255 255 255 255 255 255 255 255 255 255 254 254 254 254 254 254 254 254 254 254 254 254 254 254 254 254 254 254 254 253 252 251 250 249 249 250 250 251 252 253 253 253 255 255 255 255 254 253 251 250 254 144 23 36 15 23 18 22 21 19 17 17 20 21 21 20 24 23 25 27 25 20 21 25 17 23 23 17 18 25 25 19 27 39 39 24 18 28 34 31 29 35 39 34 24 21 26 34 37 32 33 38 36 27 28 36 25 33 41 \n",
            "255 255 255 255 255 255 255 255 254 254 254 254 254 254 254 254 254 254 254 254 254 254 254 254 253 253 253 254 254 253 253 253 254 254 254 253 252 250 249 248 248 249 249 250 251 252 252 253 255 255 255 254 253 252 251 250 253 95 30 35 12 23 20 21 21 18 16 17 19 21 21 20 23 22 23 25 24 20 22 27 26 30 26 18 18 25 26 19 27 41 40 24 17 28 34 29 35 39 40 34 25 21 25 32 36 31 31 34 29 21 22 31 29 36 43 \n",
            "254 254 254 254 254 254 254 254 254 254 254 254 254 254 254 254 254 254 254 254 254 254 254 254 253 253 253 253 253 253 253 253 254 254 253 253 252 250 248 247 247 248 249 250 251 251 252 252 254 254 254 254 253 252 251 250 242 59 32 31 10 23 22 20 20 18 16 17 19 21 21 20 22 20 21 24 23 21 24 30 36 37 30 19 18 26 27 21 25 39 39 21 15 26 32 26 21 25 28 26 23 23 30 37 27 25 30 36 31 19 17 23 26 32 38 \n",
            "253 253 253 254 254 255 255 255 255 255 255 255 255 255 255 255 255 255 255 255 255 255 255 255 255 255 255 255 255 255 255 255 254 253 251 252 253 252 245 238 246 241 235 237 247 251 247 237 250 249 250 253 241 254 254 247 219 38 22 21 8 34 8 19 19 19 19 20 20 21 21 21 21 23 26 26 24 23 23 25 29 29 26 20 19 23 26 25 25 29 28 23 21 25 28 29 27 28 27 25 22 23 26 29 26 26 31 36 30 18 19 28 24 29 35 \n",
            "253 253 253 254 254 255 255 255 255 255 255 255 255 255 255 255 255 255 255 255 255 255 255 255 255 255 255 255 255 255 255 255 254 252 250 250 250 246 237 229 223 220 214 211 219 235 247 251 249 249 252 249 246 253 240 254 170 34 22 25 12 26 10 21 19 19 20 20 20 21 21 21 21 23 25 25 23 22 23 24 30 30 25 19 18 23 26 25 28 30 28 21 19 23 27 28 25 29 31 28 23 21 23 26 28 26 29 35 30 20 19 27 37 39 41 \n",
            "253 253 253 254 254 255 255 255 255 255 255 255 255 255 255 255 255 255 255 255 255 255 255 255 255 255 255 255 255 255 255 255 255 253 252 251 250 246 237 230 209 191 165 149 158 186 214 229 216 216 218 205 215 232 224 251 102 31 20 27 19 18 15 22 19 19 20 20 21 21 21 21 21 23 25 25 23 22 22 23 31 30 24 17 16 22 26 26 32 32 28 20 16 21 26 28 23 29 34 31 23 18 20 24 31 25 26 33 32 22 20 25 38 37 36 \n",
            "253 253 253 254 254 255 255 255 255 255 255 255 255 255 255 255 255 255 255 255 255 255 255 255 255 255 255 255 255 255 255 255 254 254 253 253 253 251 247 242 205 168 118 90 101 131 155 163 173 172 163 158 166 197 223 204 49 31 16 25 24 14 20 21 20 20 20 21 21 21 22 22 21 23 25 25 22 21 21 22 31 30 24 16 15 21 26 27 33 33 28 18 14 19 25 27 21 29 34 29 20 16 21 28 34 25 24 31 32 24 21 24 31 29 27 \n",
            "253 253 253 254 254 255 255 255 255 255 255 255 255 255 255 255 255 255 255 255 255 255 255 255 255 255 255 255 255 255 255 255 253 253 253 253 253 253 252 250 235 203 161 136 141 159 171 172 183 186 168 180 171 200 236 139 28 32 15 21 25 17 25 18 20 20 21 21 22 22 22 22 21 23 25 24 22 20 20 21 30 29 24 17 16 21 25 25 32 32 27 17 14 19 25 27 21 27 30 24 16 16 25 35 34 25 23 30 31 24 21 25 31 31 31 \n",
            "253 253 253 254 254 255 255 255 255 255 255 255 255 255 255 255 255 255 255 255 255 255 255 255 255 255 255 255 255 255 255 255 254 255 254 253 253 253 252 251 252 250 240 228 224 229 233 233 231 235 223 240 221 228 217 80 28 29 17 18 22 21 26 16 20 21 21 22 22 22 22 22 21 23 25 24 21 19 19 20 27 28 24 18 17 22 24 23 28 29 25 18 15 20 26 28 22 25 26 21 15 17 27 36 33 26 25 31 29 22 21 27 33 34 36 \n",
            "253 253 253 254 254 255 255 255 255 255 255 255 255 255 255 255 255 255 255 255 255 255 255 255 255 255 255 255 255 255 255 255 255 254 255 254 253 253 253 252 242 250 253 252 249 249 250 249 251 250 251 252 250 239 148 46 34 21 24 20 16 24 23 16 21 21 21 22 22 23 23 23 21 23 24 23 21 18 18 19 25 27 25 20 19 22 23 21 22 25 24 18 17 23 28 29 24 25 25 21 17 19 25 31 31 27 28 32 27 19 20 30 33 34 34 \n",
            "253 253 253 254 254 255 255 255 255 255 255 255 255 255 255 255 255 255 255 255 255 255 255 255 255 255 255 255 255 255 255 255 253 254 255 254 254 254 254 253 253 253 251 249 251 253 252 248 250 239 251 235 253 237 90 45 38 15 29 23 12 25 21 17 21 21 22 22 22 23 23 23 21 23 24 23 20 18 18 19 23 26 25 21 21 23 22 19 19 23 23 19 19 24 29 30 25 25 25 23 20 20 22 24 30 27 30 33 26 17 20 32 35 34 32 \n",
            "254 254 254 254 254 254 254 254 254 254 254 254 254 254 254 254 255 255 255 255 255 255 255 255 255 255 255 255 255 255 255 255 255 255 254 254 254 253 253 253 253 253 253 253 253 253 253 253 253 253 247 246 254 132 62 28 24 20 19 21 20 17 17 21 19 21 23 24 23 24 26 28 23 20 21 25 25 21 20 23 24 23 21 19 19 20 21 22 15 24 16 7 17 25 24 26 29 28 26 22 19 19 21 24 25 39 22 36 17 20 25 29 31 32 34 \n",
            "254 254 254 254 254 254 254 254 254 254 254 254 254 254 254 254 255 255 255 255 255 255 255 255 255 255 255 255 255 255 255 255 255 255 254 254 254 253 253 253 253 253 253 253 253 253 253 253 243 253 254 246 231 94 42 33 24 20 19 21 20 17 17 21 19 21 23 24 23 24 26 28 23 20 21 25 25 21 20 23 24 23 21 19 19 20 21 22 18 27 19 10 20 28 26 28 29 28 26 22 19 19 21 24 25 39 22 36 17 20 25 29 31 32 34 \n"
          ]
        }
      ]
    },
    {
      "cell_type": "markdown",
      "source": [
        "# Richardson-Lucy Algorithm"
      ],
      "metadata": {
        "id": "ERzyqfObuBbd"
      }
    },
    {
      "cell_type": "code",
      "source": [
        "%%writefile final.cu\n",
        "#include <stdio.h>\n",
        "#include <stdlib.h>\n",
        "\n",
        "#define MAX_ROWS 170\n",
        "#define MAX_COLS 115\n",
        "\n",
        "#define PIX 115\n",
        "\n",
        "#define H 6\n",
        "#define NUM 115 * 115\n",
        "#define SIGMA 25\n",
        "\n",
        "/*READING THE DATA*/\n",
        "void dataread(float * y) {\n",
        "    int i;\n",
        "    FILE * fp;\n",
        "    fp = fopen(\"mylenna\", \"r\");\n",
        "    for (i = 0; i < NUM; i++) {\n",
        "        fscanf(fp, \"%f \", & y[i]);\n",
        "    }\n",
        "    return;\n",
        "}\n",
        "\n",
        "void spread(float * p) {\n",
        "    int i, j;\n",
        "    float temp = 0;\n",
        "    for (i = -H; i <= H; i++) {\n",
        "        for (j = -H; j <= H; j++) {\n",
        "            p[i * i + j * j] = exp(-((float)(i * i + j * j)) / SIGMA);\n",
        "            temp += p[i * i + j * j];\n",
        "        }\n",
        "    }\n",
        "    for (i = -H; i <= H; i++)\n",
        "        for (j = -H; j <= H; j++)\n",
        "            p[i * i + j * j] = p[i * i + j * j] / temp;\n",
        "    return;\n",
        "}\n",
        "\n",
        "__device__ int distance(int i, int j, int k, int l) {\n",
        "    int d;\n",
        "    d = (i - k) * (i - k) + (j - l) * (j - l);\n",
        "    return d;\n",
        "}\n",
        "\n",
        "/*RENEW THE VALUE OF LAMBDA VECTOR*/\n",
        "void renew(float * lold, float * lnew) {\n",
        "    int i;\n",
        "    for (i = 0; i < NUM; i++)\n",
        "        lold[i] = lnew[i];\n",
        "    return;\n",
        "}\n",
        "\n",
        "/*SAVING THE DATA*/\n",
        "void datasave(float * l) {\n",
        "    int i, j;\n",
        "    FILE * fp;\n",
        "    fp = fopen(\"mylenn\", \"w\");\n",
        "    for (i = 0; i < PIX; i++) {\n",
        "        for (j = 0; j < PIX; j++) {\n",
        "            fprintf(fp, \"%f \", l[i * PIX + j]);\n",
        "        }\n",
        "        fprintf(fp, \"\\n\");\n",
        "    }\n",
        "    return;\n",
        "}\n",
        "\n",
        "__global__ void lambda(float *y, float *lold, float *lnew, float *p) {\n",
        "    int i1=blockIdx.y;\n",
        "    int i2=blockIdx.x;\n",
        "\n",
        "    int tmp=0;\n",
        "    for (int j1 = max(0, i1 - H + 1); j1 < min(i1 + H - 1, PIX); j1++) {\n",
        "        for (int j2 = max(0, i2 - H + 1); j2 < min(i2 + H - 1, PIX); j2++) {\n",
        "            int temp = 0;\n",
        "            for (int k1 = max(0, i1 - H + 1); k1 < min(i1 + H - 1, PIX); k1++) {\n",
        "                for (int k2 = max(0, i2 - H + 1); k2 < min(i2 + H - 1, PIX); k2++) {\n",
        "                    temp = temp + lold[k1 * PIX + k2] * p[distance(j1, j2, k1, k2)];\n",
        "                }\n",
        "                tmp = tmp + y[j1 * PIX + j2] * (p[distance(j1, j2, i1, i2)]) / temp;\n",
        "            }\n",
        "        }\n",
        "        lnew[i1 * PIX + i2] = lold[i1 * PIX + i2] * tmp;\n",
        "    }\n",
        "}\n",
        "\n",
        "int main() {\n",
        "    \n",
        "    FILE* file = fopen(\"image_text.txt\", \"r\");\n",
        "    int y[MAX_ROWS][MAX_COLS];\n",
        "    int num_rows = 0;\n",
        "    int num_cols = 0;\n",
        "\n",
        "    if (file == NULL) {\n",
        "        printf(\"Error: could not open file.\\n\");\n",
        "        return 1;\n",
        "    }\n",
        "\n",
        "    // Read the contents of the file\n",
        "    while (!feof(file) && num_rows < MAX_ROWS) {\n",
        "        for (num_cols = 0; num_cols < MAX_COLS && !feof(file); num_cols++) {\n",
        "            fscanf(file, \"%d\", &matrix[num_rows][num_cols]);\n",
        "        }\n",
        "        num_rows++;\n",
        "    }\n",
        "\n",
        "    // Print the contents of the matrix\n",
        "    for (int i = 0; i < num_rows; i++) {\n",
        "        for (int j = 0; j < num_cols; j++) {\n",
        "            //printf(\"%d \", matrix[i][j]);\n",
        "        }\n",
        "        //printf(\"\\n\");\n",
        "    }\n",
        "    \n",
        "\n",
        "    int i;\n",
        "    float *y, *lold, *lnew, *p;\n",
        "\n",
        "    y = (float*)malloc(NUM * sizeof(float));\n",
        "    lold = (float*)malloc(NUM * sizeof(float));\n",
        "    lnew = (float*)malloc(NUM * sizeof(float));\n",
        "\n",
        "    p = (float*)malloc((2 * (H + 1) * (H + 1)) * sizeof(float));\n",
        "    printf(\"Result1:\\n\");\n",
        "    spread(p);\n",
        "    \n",
        "    dataread(lold);\n",
        "    printf(\"Result2:\\n\");\n",
        "    float *d_y, * d_lold, *d_lnew, *d_p;\n",
        "\n",
        "    cudaMalloc((void**)&d_y, NUM * sizeof(float));\n",
        "    cudaMalloc((void**)&d_lold, NUM * sizeof(float));\n",
        "    cudaMalloc((void**)&d_lnew, NUM * sizeof(float));\n",
        "    cudaMalloc((void**)&d_p, NUM * sizeof(float));\n",
        "\n",
        "    cudaMemcpy(d_y, &y, NUM * sizeof(float), cudaMemcpyHostToDevice);\n",
        "    cudaMemcpy(d_lold, &lold, NUM * sizeof(float), cudaMemcpyHostToDevice);\n",
        "    cudaMemcpy(d_lnew, &lnew, NUM * sizeof(float), cudaMemcpyHostToDevice);\n",
        "    cudaMemcpy(d_p, &p, NUM * sizeof(float), cudaMemcpyHostToDevice);\n",
        "\n",
        "    dim3 grid(PIX, PIX, 1);\n",
        "\n",
        "    printf(\"Result:\\n\");\n",
        "\n",
        "    for (i = 0; i < 1; i++) {\n",
        "        lambda<<<grid, 1>>>(y, lold, lnew, p);\n",
        "\n",
        "        cudaMemcpy(lnew, d_lnew, NUM * sizeof(float), cudaMemcpyDeviceToHost);\n",
        "\n",
        "        renew(lold, lnew);\n",
        "        printf(\"%d \\n\", i);\n",
        "    }\n",
        "\n",
        "    //datasave(lnew);\n",
        "    printf(\"Result:\\n\");\n",
        "    for (int i = 0; i < num_rows; i++) {\n",
        "        for (int j = 0; j < num_cols; j++) {\n",
        "            printf(\"%f \", lnew[i*num_cols+j]);\n",
        "        }\n",
        "        printf(\"\\n\");\n",
        "    }\n",
        "\n",
        "    free(p);\n",
        "    free(y);\n",
        "    free(lnew);\n",
        "    free(lold);\n",
        "\n",
        "    fclose(file);\n",
        "    return 0;\n",
        "}\n"
      ],
      "metadata": {
        "colab": {
          "base_uri": "https://localhost:8080/"
        },
        "id": "6d2JfeeKh1_C",
        "outputId": "2c6f5486-82df-4e26-cf25-bae1460a6876"
      },
      "execution_count": null,
      "outputs": [
        {
          "output_type": "stream",
          "name": "stdout",
          "text": [
            "Overwriting final.cu\n"
          ]
        }
      ]
    },
    {
      "cell_type": "code",
      "source": [
        "!nvcc final.cu"
      ],
      "metadata": {
        "id": "fP0pUoA3pTQO"
      },
      "execution_count": null,
      "outputs": []
    },
    {
      "cell_type": "code",
      "source": [
        "!./a.out"
      ],
      "metadata": {
        "id": "yekd_Y1pre16",
        "outputId": "fa5aae45-bb07-4526-b014-98c46ffbe53b",
        "colab": {
          "base_uri": "https://localhost:8080/"
        }
      },
      "execution_count": null,
      "outputs": [
        {
          "output_type": "stream",
          "name": "stdout",
          "text": [
            "Result1:\n"
          ]
        }
      ]
    },
    {
      "cell_type": "code",
      "source": [
        "% % writefile trial1.cu\n",
        "#include <stdio.h>\n",
        "\n",
        "#include <math.h>\n",
        "\n",
        "#include <stdlib.h>\n",
        "\n",
        "#define H 6\n",
        "#define PIX 248\n",
        "#define NUM 248 * 248\n",
        "#define SIGMA 25\n",
        "#ifndef max\n",
        "#define max(a, b)(((a) > (b)) ? (a) : (b))\n",
        "#endif\n",
        "#ifndef min\n",
        "#define min(a, b)(((a) < (b)) ? (a) : (b))\n",
        "#endif\n",
        "\n",
        "void dataread(float * y);\n",
        "int distance(int i, int j, int k, int l);\n",
        "void lambda(float * y, float * lold, float * lnew, float * p);\n",
        "void renew(float * lold, float * lnew);\n",
        "void spread(float * p);\n",
        "void datasave(float * l);\n",
        "int main(void) {\n",
        "    int i;\n",
        "    float * y, * lold, * lnew, * p, ttt;\n",
        "    y = malloc(NUM * sizeof(float));\n",
        "    lold = malloc(NUM * sizeof(float));\n",
        "    lnew = malloc(NUM * sizeof(float));\n",
        "    p = malloc((2 * (H + 1) * (H + 1)) * sizeof(float));\n",
        "    spread(p);\n",
        "    dataread(y);\n",
        "    dataread(lold);\n",
        "    for (i = 0; i < 40; i++) {\n",
        "        lambda(y, lold, lnew, p);\n",
        "        renew(lold, lnew);\n",
        "        printf(\"%d \\n\", i);\n",
        "    }\n",
        "    datasave(lnew);\n",
        "    free(p);\n",
        "    free(y);\n",
        "    free(lnew);\n",
        "    free(lold);\n",
        "    return 0;\n",
        "}\n",
        "/*READING THE DATA*/\n",
        "void dataread(float * y) {\n",
        "    int i;\n",
        "    FILE * fp;\n",
        "    fp = fopen(\"mylenna\", \"r\");\n",
        "    for (i = 0; i < NUM; i++) {\n",
        "        fscanf(fp, \"%f \", & y[i]);\n",
        "    }\n",
        "    return;\n",
        "}\n",
        "/*DEFINING A NORM*/\n",
        "int distance(int i, int j, int k, int l) {\n",
        "    int d;\n",
        "    d = (i - k) * (i - k) + (j - l) * (j - l);\n",
        "    return d;\n",
        "}\n",
        "/*LAMBDA VECTOR*/\n",
        "void lambda(float * y, float * lold, float * lnew, float * p) {\n",
        "        int i1, i2, j1, j2, k1, k2;\n",
        "        float temp, tmp;\n",
        "        for (i1 = 0; i1 < PIX; i1++) {\n",
        "            for (i2 = 0; i2 < PIX; i2++) {\n",
        "                tmp = 0;\n",
        "                for (j1 = max(0, i1 - H + 1); j1 < min(i1 + H - 1, PIX); j1++) {\n",
        "                    for (j2 = max(0, i2 - H + 1); j2 < min(i2 + H - 1, PIX); j2++) {\n",
        "                        temp = 0;\n",
        "                        for (k1 = max(0, i1 - H + 1); k1 < min(i1 + H - 1, PIX); k1++) {\n",
        "                            for (k2 = max(0, i2 - H + 1); k2 < min(i2 + H - 1, PIX); k2++) {\n",
        "                                temp = temp + lold[k1 * PIX + k2] * p[distance(j1, j2, k1, k2)];\n",
        "                            }\n",
        "                            tmp = tmp + y[j1 * PIX + j2] * (p[distance(j1, j2, i1, i2)]) / temp;\n",
        "                        }\n",
        "                    }\n",
        "                    lnew[i1 * PIX + i2] = lold[i1 * PIX + i2] * tmp;\n",
        "                }\n",
        "            }\n",
        "            return;\n",
        "        }\n",
        "        colab - workspace.ipynb\n",
        "        /*Point Spread Function*/\n",
        "        void spread(float * p) {\n",
        "            int i, j;\n",
        "            float temp = 0;\n",
        "            for (i = -H; i <= H; i++) {\n",
        "                for (j = -H; j <= H; j++) {\n",
        "                    p[i * i + j * j] = exp(-((float)(i * i + j * j)) / SIGMA);\n",
        "                    temp += p[i * i + j * j];\n",
        "                }\n",
        "            }\n",
        "            for (i = -H; i <= H; i++)\n",
        "                for (j = -H; j <= H; j++)\n",
        "                    p[i * i + j * j] = p[i * i + j * j] / temp;\n",
        "            return;\n",
        "        }\n",
        "        /*RENEW THE VALUE OF LAMBDA VECTOR*/\n",
        "        void renew(float * lold, float * lnew) {\n",
        "            int i;\n",
        "            for (i = 0; i < NUM; i++)\n",
        "                lold[i] = lnew[i];\n",
        "            return;\n",
        "        }\n",
        "        /*SAVING THE DATA*/\n",
        "        void datasave(float * l) {\n",
        "            int i, j;\n",
        "            FILE * fp;\n",
        "            fp = fopen(\"mylenn\", \"w\");\n",
        "            for (i = 0; i < PIX; i++) {\n",
        "                for (j = 0; j < PIX; j++) {\n",
        "                    fprintf(fp, \"%f \", l[i * PIX + j]);\n",
        "                }\n",
        "                fprintf(fp, \"\\n\");\n",
        "            }\n",
        "            return;\n",
        "        }"
      ],
      "metadata": {
        "colab": {
          "base_uri": "https://localhost:8080/"
        },
        "id": "I4iAoMrRa1zM",
        "outputId": "9ea6a3e4-81da-4683-ef1f-7aef4591c9e8"
      },
      "execution_count": null,
      "outputs": [
        {
          "output_type": "stream",
          "name": "stdout",
          "text": [
            "Writing trial1.cu\n"
          ]
        }
      ]
    },
    {
      "cell_type": "code",
      "source": [
        "!nvcc -arch=sm_37 -gencode=arch=compute_37,code=sm_37 l9q1a.cu -o l9q1a"
      ],
      "metadata": {
        "colab": {
          "base_uri": "https://localhost:8080/"
        },
        "id": "MgZKDm09a8V2",
        "outputId": "1caafe02-2a75-4f2e-aa7e-3c1372cb2b94"
      },
      "execution_count": null,
      "outputs": [
        {
          "output_type": "stream",
          "name": "stdout",
          "text": [
            "nvcc warning : The 'compute_35', 'compute_37', 'sm_35', and 'sm_37' architectures are deprecated, and may be removed in a future release (Use -Wno-deprecated-gpu-targets to suppress warning).\n",
            "\u001b[01m\u001b[Kgcc:\u001b[m\u001b[K \u001b[01;31m\u001b[Kerror: \u001b[m\u001b[Kl9q1a.cu: No such file or directory\n",
            "\u001b[01m\u001b[Kgcc:\u001b[m\u001b[K \u001b[01;35m\u001b[Kwarning: \u001b[m\u001b[K‘\u001b[01m\u001b[K-x c++\u001b[m\u001b[K’ after last input file has no effect\n",
            "\u001b[01m\u001b[Kgcc:\u001b[m\u001b[K \u001b[01;31m\u001b[Kfatal error: \u001b[m\u001b[Kno input files\n",
            "compilation terminated.\n"
          ]
        }
      ]
    },
    {
      "cell_type": "code",
      "source": [
        "!./l9q1a"
      ],
      "metadata": {
        "colab": {
          "base_uri": "https://localhost:8080/"
        },
        "id": "8crnGl6DaLwN",
        "outputId": "2812fc2e-53ae-4d8e-8e47-4405a45ac5d9"
      },
      "execution_count": null,
      "outputs": [
        {
          "output_type": "stream",
          "name": "stdout",
          "text": [
            "/bin/bash: ./l9q1a: No such file or directory\n"
          ]
        }
      ]
    },
    {
      "cell_type": "code",
      "source": [
        "%%writefile final.cu\n",
        "#include <stdio.h>\n",
        "#include <stdlib.h>\n",
        "\n",
        "#define MAX_ROWS 115\n",
        "#define MAX_COLS 115\n",
        "\n",
        "#define PIX 115\n",
        "\n",
        "#define H 6\n",
        "#define NUM 115 * 115\n",
        "#define SIGMA 25\n",
        "\n",
        "/*READING THE DATA*/\n",
        "void dataread(float * y) {\n",
        "    int i;\n",
        "    FILE * fp;\n",
        "    fp = fopen(\"mylenna\", \"r\");\n",
        "    for (i = 0; i < NUM; i++) {\n",
        "        fscanf(fp, \"%f \", & y[i]);\n",
        "    }\n",
        "    return;\n",
        "}\n",
        "\n",
        "void spread(float * p) {\n",
        "    int i, j;\n",
        "    float temp = 0;\n",
        "    for (i = -H; i <= H; i++) {\n",
        "        for (j = -H; j <= H; j++) {\n",
        "            p[i * i + j * j] = exp(-((float)(i * i + j * j)) / SIGMA);\n",
        "            temp += p[i * i + j * j];\n",
        "        }\n",
        "    }\n",
        "    for (i = -H; i <= H; i++)\n",
        "        for (j = -H; j <= H; j++)\n",
        "            p[i * i + j * j] = p[i * i + j * j] / temp;\n",
        "    return;\n",
        "}\n",
        "\n",
        "__device__ int distance(int i, int j, int k, int l) {\n",
        "    int d;\n",
        "    d = (i - k) * (i - k) + (j - l) * (j - l);\n",
        "    return d;\n",
        "}\n",
        "\n",
        "/*RENEW THE VALUE OF LAMBDA VECTOR*/\n",
        "void renew(float * lold, float * lnew) {\n",
        "    int i;\n",
        "    for (i = 0; i < NUM; i++)\n",
        "        lold[i] = lnew[i];\n",
        "    return;\n",
        "}\n",
        "\n",
        "/*SAVING THE DATA*/\n",
        "void datasave(float * l) {\n",
        "    int i, j;\n",
        "    FILE * fp;\n",
        "    fp = fopen(\"mylenn\", \"w\");\n",
        "    for (i = 0; i < PIX; i++) {\n",
        "        for (j = 0; j < PIX; j++) {\n",
        "            fprintf(fp, \"%f \", l[i * PIX + j]);\n",
        "        }\n",
        "        fprintf(fp, \"\\n\");\n",
        "    }\n",
        "    return;\n",
        "}\n",
        "\n",
        "__global__ void lambda(float *y, float *lold, float *lnew, float *p) {\n",
        "    int i1=blockIdx.y;\n",
        "    int i2=blockIdx.x;\n",
        "\n",
        "    int tmp=0;\n",
        "    for (int j1 = max(0, i1 - H + 1); j1 < min(i1 + H - 1, PIX); j1++) {\n",
        "        for (int j2 = max(0, i2 - H + 1); j2 < min(i2 + H - 1, PIX); j2++) {\n",
        "            int temp = 0;\n",
        "            for (int k1 = max(0, i1 - H + 1); k1 < min(i1 + H - 1, PIX); k1++) {\n",
        "                for (int k2 = max(0, i2 - H + 1); k2 < min(i2 + H - 1, PIX); k2++) {\n",
        "                    temp = temp + lold[k1 * PIX + k2] * p[distance(j1, j2, k1, k2)];\n",
        "                }\n",
        "                tmp = tmp + y[j1 * PIX + j2] * (p[distance(j1, j2, i1, i2)]) / temp;\n",
        "            }\n",
        "        }\n",
        "        lnew[i1 * PIX + i2] = lold[i1 * PIX + i2] * tmp;\n",
        "    }\n",
        "}\n",
        "\n",
        "int main() {\n",
        "    \n",
        "    FILE* file = fopen(\"image_text.txt\", \"r\");\n",
        "    int img[MAX_ROWS][MAX_COLS];\n",
        "    int num_rows = 0;\n",
        "    int num_cols = 0;\n",
        "\n",
        "    if (file == NULL) {\n",
        "        printf(\"Error: could not open file.\\n\");\n",
        "        return 1;\n",
        "    }\n",
        "\n",
        "    // Read the contents of the file\n",
        "    while (!feof(file) && num_rows < MAX_ROWS) {\n",
        "        for (num_cols = 0; num_cols < MAX_COLS && !feof(file); num_cols++) {\n",
        "            fscanf(file, \"%d\", &img[num_rows][num_cols]);\n",
        "        }\n",
        "        num_rows++;\n",
        "    }\n",
        "\n",
        "    \n",
        "\n",
        "    int i;\n",
        "    float *y, *lold, *lnew, *p;\n",
        "\n",
        "    y = (float*)malloc(NUM * sizeof(float));\n",
        "    lold = (float*)malloc(NUM * sizeof(float));\n",
        "    lnew = (float*)malloc(NUM * sizeof(float));\n",
        "\n",
        "    p = (float*)malloc((2 * (H + 1) * (H + 1)) * sizeof(float));\n",
        "    printf(\"Result1:\\n\");\n",
        "    spread(p);\n",
        "    \n",
        "    dataread(lold);\n",
        "    printf(\"Result2:\\n\");\n",
        "    float *d_y, * d_lold, *d_lnew, *d_p;\n",
        "\n",
        "    cudaMalloc((void**)&d_y, NUM * sizeof(float));\n",
        "    cudaMalloc((void**)&d_lold, NUM * sizeof(float));\n",
        "    cudaMalloc((void**)&d_lnew, NUM * sizeof(float));\n",
        "    cudaMalloc((void**)&d_p, NUM * sizeof(float));\n",
        "\n",
        "    cudaMemcpy(d_y, &y, NUM * sizeof(float), cudaMemcpyHostToDevice);\n",
        "    cudaMemcpy(d_lold, &lold, NUM * sizeof(float), cudaMemcpyHostToDevice);\n",
        "    cudaMemcpy(d_lnew, &lnew, NUM * sizeof(float), cudaMemcpyHostToDevice);\n",
        "    cudaMemcpy(d_p, &p, NUM * sizeof(float), cudaMemcpyHostToDevice);\n",
        "\n",
        "    dim3 grid(PIX, PIX, 1);\n",
        "\n",
        "    printf(\"Result:\\n\");\n",
        "\n",
        "    for (i = 0; i < 1; i++) {\n",
        "        lambda<<<grid, 1>>>(d_y, d_lold, d_lnew, d_p);\n",
        "\n",
        "        cudaMemcpy(&lold, d_lnew, NUM * sizeof(float), cudaMemcpyDeviceToHost);\n",
        "        printf(\"%d \\n\", i);\n",
        "    }\n",
        "\n",
        "    //datasave(lnew);\n",
        "    printf(\"Result:\\n\");\n",
        "    for (int i = 0; i < num_rows; i++) {\n",
        "        for (int j = 0; j < num_cols; j++) {\n",
        "            printf(\"%f \", lnew[i*num_cols+j]);\n",
        "        }\n",
        "        printf(\"\\n\");\n",
        "    }\n",
        "\n",
        "    free(p);\n",
        "    free(y);\n",
        "    free(lnew);\n",
        "    free(lold);\n",
        "\n",
        "    fclose(file);\n",
        "    return 0;\n",
        "}\n"
      ],
      "metadata": {
        "id": "euV9F4c4C9S-"
      },
      "execution_count": null,
      "outputs": []
    }
  ]
}